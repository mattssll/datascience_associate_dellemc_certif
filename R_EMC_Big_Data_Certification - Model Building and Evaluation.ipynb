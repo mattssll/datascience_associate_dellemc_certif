{
 "cells": [
  {
   "cell_type": "markdown",
   "metadata": {},
   "source": [
    "# Big Data and Analytics V2 - EMC Certification"
   ]
  },
  {
   "cell_type": "markdown",
   "metadata": {},
   "source": [
    "### R-Programming Language - Walkthrough the Certification: Model Building and Evaluation"
   ]
  },
  {
   "cell_type": "markdown",
   "metadata": {},
   "source": [
    "<img src=\"https://encrypted-tbn0.gstatic.com/images?q=tbn%3AANd9GcT4r4wSr8WbLpsewIxDWGNXDyUDu5SzUUjrsGJgyRp9LzaCi0CL\" width = \"400px\"></img>"
   ]
  },
  {
   "cell_type": "markdown",
   "metadata": {},
   "source": [
    "#### In this Material you'll find:\n",
    "#### Statistical Inference\n",
    "<ul>\n",
    "    <li>Estimation:</li>\n",
    "        <ul>\n",
    "            <li>Population Characteristic: Mean, Variance, Percentiles</li>\n",
    "            <li>Typical Approaches: Points Estimation, Confidence Intervals</li>\n",
    "        </ul>\n",
    "    <li>Hypothesis Testing:</li>\n",
    "        <ul>\n",
    "            <li>Evaluate Assertion: Is Mean of A different than mean of B?</li>\n",
    "            <li>Techniques: t-test(normal dist.), Wilcoxon, Analysis of Variance (ANOVA)</li>\n",
    "        </ul>\n",
    "</ul>"
   ]
  },
  {
   "cell_type": "markdown",
   "metadata": {},
   "source": [
    "### Normal Distribution:"
   ]
  },
  {
   "cell_type": "markdown",
   "metadata": {},
   "source": [
    "<img src=\"images/R_EMC_Big_Data/normal_dist.png\" width=\"450\" align=\"Right\">\n",
    "Normal Distribution:\n",
    "$$f(x) = \\frac{1}{\\sigma \\sqrt{2\\pi}}e^{-\\frac{1}{2}(\\frac{x-\\mu}{\\sigma})^2}$$ \n",
    "Mean of x:$$\\overline x=\\mu$$\n",
    "Standard Deviation (s for sample, sigma for population): $$s=\\sigma$$ $$s = \\sqrt{\\sum\\limits_{x=1}^{\\infty}  \\frac{(x_i - \\overline{X}) ^ 2} {(n-1)}}$$\n",
    "\n",
    "Variance: $$s^2 = \\sum\\limits_{x=1}^{\\infty} \\frac{(x_i - \\overline x)^2}{n}$$\n",
    "\n",
    "\n",
    "\n"
   ]
  },
  {
   "cell_type": "markdown",
   "metadata": {},
   "source": [
    "#### Playing with the Normal Distribution:"
   ]
  },
  {
   "cell_type": "code",
   "execution_count": 130,
   "metadata": {},
   "outputs": [
    {
     "data": {
      "image/png": "[encoded data removed]",
      "text/plain": [
       "Plot with title \"Density Chart of Normal D.\""
      ]
     },
     "metadata": {},
     "output_type": "display_data"
    }
   ],
   "source": [
    "#some plotting configs\n",
    "windows.options(reset=TRUE)\n",
    "set_plot_dimensions <- function(width_choice, height_choice) {\n",
    "        options(repr.plot.width=width_choice, repr.plot.height=height_choice)\n",
    "        }\n",
    "\n",
    "set_plot_dimensions(8,5)\n",
    "par(mfrow=c(2,3))\n",
    "\n",
    "#starting with normal distribution\n",
    "#seed is used to generate the same values if this document is shared, it's used for reproducibility\n",
    "set.seed(1000)\n",
    "#simulate 500 random normal values - mu = 10, and sigma = 4\n",
    "v <- rnorm(500,10,4)\n",
    "v2 <- rnorm(500,0,10)\n",
    "\n",
    "plot(density(v), main=\"Density Chart of Normal D.\")\n",
    "plot(density(v2), main=\"Density Chart of Normal D.\")"
   ]
  },
  {
   "cell_type": "markdown",
   "metadata": {},
   "source": [
    "### Confidence Intervals\n",
    "$$\\overline X \\underline + t_\\alpha/_2,_n-_1 \\frac{S}{\\sqrt n}$$"
   ]
  },
  {
   "cell_type": "code",
   "execution_count": 15,
   "metadata": {},
   "outputs": [
    {
     "name": "stdout",
     "output_type": "stream",
     "text": [
      "min is:  9.875158 max is:  10.55189"
     ]
    }
   ],
   "source": [
    "v <- rnorm(500,10,4)\n",
    "#alpha = 0,05 / 2 = 0.25\n",
    "delta <- qt(0.025,499, lower.tail = FALSE) * sd(v)/sqrt(500)\n",
    "x_max_min = c(mean(v) - delta, mean(v) + delta)\n",
    "#result is: 95% of the results will be between max and min values\n",
    "cat (\"min is: \", x_max_min[1], \"max is: \", x_max_min[2])"
   ]
  },
  {
   "cell_type": "markdown",
   "metadata": {},
   "source": [
    "### T-Test Hypothesis:"
   ]
  },
  {
   "cell_type": "markdown",
   "metadata": {},
   "source": [
    "|  Decision |     H0 is True    |     H0 is False    |\n",
    "|:---------:|:-----------------:|:------------------:|\n",
    "| Accept H0 |  Correct Outcome  | Type II Error (FN) |\n",
    "| Reject H0 | Type I Error (FP) | Correct Outcome    |"
   ]
  },
  {
   "cell_type": "code",
   "execution_count": 16,
   "metadata": {},
   "outputs": [
    {
     "data": {
      "text/plain": [
       "\n",
       "\tOne Sample t-test\n",
       "\n",
       "data:  v\n",
       "t = 0.51192, df = 499, p-value = 0.6089\n",
       "alternative hypothesis: true mean is not equal to 10\n",
       "95 percent confidence interval:\n",
       "  9.741323 10.440975\n",
       "sample estimates:\n",
       "mean of x \n",
       " 10.09115 \n"
      ]
     },
     "metadata": {},
     "output_type": "display_data"
    },
    {
     "data": {
      "text/plain": [
       "\n",
       "\tOne Sample t-test\n",
       "\n",
       "data:  v\n",
       "t = 4.4433, df = 499, p-value = 1.092e-05\n",
       "alternative hypothesis: true mean is not equal to 9.3\n",
       "95 percent confidence interval:\n",
       "  9.741323 10.440975\n",
       "sample estimates:\n",
       "mean of x \n",
       " 10.09115 \n"
      ]
     },
     "metadata": {},
     "output_type": "display_data"
    }
   ],
   "source": [
    "#T-Test: Hypothesis: T-Test will test if the mean of a variable is equal (H0) to any arbitrary mean\n",
    "#H0: Mean of v is equal to 2, reject null hyp because P<0.05\n",
    "v <- rnorm(500,10,4)\n",
    "#can't reject H0, meaning that the mean of the population is not significatly different from 10\n",
    "t.test(v, mu=10, conf.level=0.95)\n",
    "#we can refute H0 and say that the mean of the population is different from 9.3\n",
    "t.test(v, mu=9.3, conf.level=0.95)"
   ]
  },
  {
   "cell_type": "code",
   "execution_count": null,
   "metadata": {},
   "outputs": [],
   "source": []
  },
  {
   "cell_type": "markdown",
   "metadata": {},
   "source": [
    "### Hypothesis Test for Multiple Populations"
   ]
  },
  {
   "cell_type": "markdown",
   "metadata": {},
   "source": [
    "T-Test (Welch's) - <b>Assumes Normal-Dist</b>: It Tests if means of two populations are equal (the difference from Student's T-test is that the Student's one Tests for Mean and Variance -  More info: <a href=\"https://en.wikipedia.org/wiki/Student%27s_t-test\"> Link </a>\n",
    "$$H\\underline 0: \\mu_1 - \\mu_2 = 0       $$\n",
    "$$H\\underline 1: \\mu_1 - \\mu_2 \\neq 0       $$\n",
    "\n",
    "$$t = \\frac{\\overline X_1 - \\overline X_2}{\\sqrt  {  \\frac{S^2_1}{n_1} + \\frac{S^2_1}{n_2}}}$$ <br></br>\n",
    "Wilcoxom Rank Sum Test: Test if one population is shifted to the left or right of another population - <b>Non-Normal-Dist.</b>, Non-Parametric\n",
    "\n",
    "Analysis of Variance (ANOVA): Tests if the means of k populations are equal\n",
    "$$H_0: \\mu_1 = \\mu_2 = ... = \\mu_k$$\n",
    "$$H_A: \\mu_1 \\neq \\mu_j $$"
   ]
  },
  {
   "cell_type": "markdown",
   "metadata": {},
   "source": [
    "#### Welch's T-Test: Comparing means between two populations:\n",
    "$$H\\underline 0: \\mu_1 - \\mu_2 = 0       $$\n",
    "$$H\\underline 1: \\mu_1 - \\mu_2 \\neq 0       $$"
   ]
  },
  {
   "cell_type": "code",
   "execution_count": 22,
   "metadata": {},
   "outputs": [
    {
     "data": {
      "text/plain": [
       "\n",
       "\tWelch Two Sample t-test\n",
       "\n",
       "data:  x and y\n",
       "t = -1.6822, df = 264.22, p-value = 0.09371\n",
       "alternative hypothesis: true difference in means is not equal to 0\n",
       "95 percent confidence interval:\n",
       " -1.660528  0.130412\n",
       "sample estimates:\n",
       "mean of x mean of y \n",
       " 20.03418  20.79924 \n"
      ]
     },
     "metadata": {},
     "output_type": "display_data"
    }
   ],
   "source": [
    "#Simulate two random normal samples\n",
    "set.seed(1000)\n",
    "#20 is mean, 4 is std. dev\n",
    "x <- rnorm(500,20,4)\n",
    "y <- rnorm(200,21,6)\n",
    "#test equality of means (welch's t-test)\n",
    "t.test(x,y, mu=0, conf.level=0.95)\n",
    "#since p-values is 0.09, it's not enough to reject H0 with alpha of 0.05 (confidence of 95%)\n",
    "#meaning that the difference from the mean from x and y aren't significative different"
   ]
  },
  {
   "cell_type": "markdown",
   "metadata": {},
   "source": [
    "#### Wilcoxon Rank Sum: Test if one population is shifted to the left or right"
   ]
  },
  {
   "cell_type": "code",
   "execution_count": 86,
   "metadata": {},
   "outputs": [
    {
     "data": {
      "text/plain": [
       "\n",
       "\tWilcoxon rank sum test with continuity correction\n",
       "\n",
       "data:  x and y\n",
       "W = 44902, p-value = 0.03494\n",
       "alternative hypothesis: true location shift is not equal to 0\n",
       "95 percent confidence interval:\n",
       " -1.7853722 -0.0685907\n",
       "sample estimates:\n",
       "difference in location \n",
       "            -0.9192281 \n"
      ]
     },
     "metadata": {},
     "output_type": "display_data"
    },
    {
     "data": {
      "text/plain": [
       "\n",
       "\tWilcoxon rank sum test with continuity correction\n",
       "\n",
       "data:  x2 and y2\n",
       "W = 90253, p-value < 2.2e-16\n",
       "alternative hypothesis: true location shift is not equal to 0\n",
       "95 percent confidence interval:\n",
       "  8.809579 10.502776\n",
       "sample estimates:\n",
       "difference in location \n",
       "              9.666168 \n"
      ]
     },
     "metadata": {},
     "output_type": "display_data"
    },
    {
     "data": {
      "image/png": "[encoded data removed]",
      "text/plain": [
       "Plot with title \"difference from x and y\""
      ]
     },
     "metadata": {},
     "output_type": "display_data"
    }
   ],
   "source": [
    "#setting size of chart\n",
    "#some plotting configs\n",
    "windows.options(reset=TRUE)\n",
    "set_plot_dimensions <- function(width_choice, height_choice) {\n",
    "        options(repr.plot.width=width_choice, repr.plot.height=height_choice)\n",
    "        }\n",
    "\n",
    "set_plot_dimensions(6,3)\n",
    "\n",
    "#use same variables as above\n",
    "set.seed(1000)\n",
    "x <- rnorm(500,20,4)\n",
    "y <- rnorm(200,21,6)\n",
    "#test for pop.shift (wilcoxon)\n",
    "wilcox.test(x,y, mu=0, conf.level=0.95, conf.int=TRUE)\n",
    "#since p-value is smaller than 0.05 we can reject H0 and say that there's a pop. shift\n",
    "par(mfrow=c(1,2))\n",
    "#overlaying plots with Plot and Lines\n",
    "plot(density(x), col = \"red\", main = \"difference from x and y\")\n",
    "lines(density(y), col = \"blue\")\n",
    "#putting lots of difference to see difference in W\n",
    "x2 <- rnorm(500,20,4)\n",
    "y2 <- rnorm(200,10,6)\n",
    "wilcox.test(x2,y2, mu=0, conf.level=0.95, conf.int=TRUE)\n",
    "plot(density(x2), col = \"red\", main = \"difference from x and y\")\n",
    "lines(density(y2), col = \"blue\")\n",
    "#the biggest the difference, the biggest the W-Score, and the lowest the P-Value"
   ]
  },
  {
   "cell_type": "markdown",
   "metadata": {},
   "source": [
    "#### Analysis of Variance (ANOVA): Test the Equality of Means of k Populations\n",
    "H0 and H1 (at least one is different from another):$$H_0: \\mu_1 = \\mu_2 = ... = \\mu_k$$\n",
    "$$H_1: \\mu_1 \\neq \\mu_j $$\n",
    "##### Example of use (not being executed): \n",
    "Determine the effect of the discount on the average purchased amount:\n",
    "Factor: Discount\n",
    "Three levels of discount: 0%, 10%, and 20%.\n",
    "Does the mean of discount change according to that?"
   ]
  },
  {
   "cell_type": "code",
   "execution_count": 113,
   "metadata": {},
   "outputs": [
    {
     "data": {
      "text/html": [
       "<table>\n",
       "<thead><tr><th scope=col>X</th><th scope=col>mpg</th><th scope=col>cyl</th><th scope=col>disp</th><th scope=col>hp</th><th scope=col>drat</th><th scope=col>wt</th><th scope=col>qsec</th><th scope=col>vs</th><th scope=col>am</th><th scope=col>gear</th><th scope=col>carb</th></tr></thead>\n",
       "<tbody>\n",
       "\t<tr><td>Mazda RX4    </td><td>21.0         </td><td>6            </td><td>160          </td><td>110          </td><td>3.90         </td><td>2.620        </td><td>16.46        </td><td>0            </td><td>1            </td><td>4            </td><td>4            </td></tr>\n",
       "\t<tr><td>Mazda RX4 Wag</td><td>21.0         </td><td>6            </td><td>160          </td><td>110          </td><td>3.90         </td><td>2.875        </td><td>17.02        </td><td>0            </td><td>1            </td><td>4            </td><td>4            </td></tr>\n",
       "\t<tr><td>Datsun 710   </td><td>22.8         </td><td>4            </td><td>108          </td><td> 93          </td><td>3.85         </td><td>2.320        </td><td>18.61        </td><td>1            </td><td>1            </td><td>4            </td><td>1            </td></tr>\n",
       "</tbody>\n",
       "</table>\n"
      ],
      "text/latex": [
       "\\begin{tabular}{r|llllllllllll}\n",
       " X & mpg & cyl & disp & hp & drat & wt & qsec & vs & am & gear & carb\\\\\n",
       "\\hline\n",
       "\t Mazda RX4     & 21.0          & 6             & 160           & 110           & 3.90          & 2.620         & 16.46         & 0             & 1             & 4             & 4            \\\\\n",
       "\t Mazda RX4 Wag & 21.0          & 6             & 160           & 110           & 3.90          & 2.875         & 17.02         & 0             & 1             & 4             & 4            \\\\\n",
       "\t Datsun 710    & 22.8          & 4             & 108           &  93           & 3.85          & 2.320         & 18.61         & 1             & 1             & 4             & 1            \\\\\n",
       "\\end{tabular}\n"
      ],
      "text/markdown": [
       "\n",
       "| X | mpg | cyl | disp | hp | drat | wt | qsec | vs | am | gear | carb |\n",
       "|---|---|---|---|---|---|---|---|---|---|---|---|\n",
       "| Mazda RX4     | 21.0          | 6             | 160           | 110           | 3.90          | 2.620         | 16.46         | 0             | 1             | 4             | 4             |\n",
       "| Mazda RX4 Wag | 21.0          | 6             | 160           | 110           | 3.90          | 2.875         | 17.02         | 0             | 1             | 4             | 4             |\n",
       "| Datsun 710    | 22.8          | 4             | 108           |  93           | 3.85          | 2.320         | 18.61         | 1             | 1             | 4             | 1             |\n",
       "\n"
      ],
      "text/plain": [
       "  X             mpg  cyl disp hp  drat wt    qsec  vs am gear carb\n",
       "1 Mazda RX4     21.0 6   160  110 3.90 2.620 16.46 0  1  4    4   \n",
       "2 Mazda RX4 Wag 21.0 6   160  110 3.90 2.875 17.02 0  1  4    4   \n",
       "3 Datsun 710    22.8 4   108   93 3.85 2.320 18.61 1  1  4    1   "
      ]
     },
     "metadata": {},
     "output_type": "display_data"
    }
   ],
   "source": [
    "#Loading Cars data to try Anova\n",
    "#I'll make the mean from 10% and 20% of discount bigger (in revenue)\n",
    "cars <- read.csv(\"mtcars.csv\", header=TRUE, sep=\",\")\n",
    "#Taking a look at the Data\n",
    "head(cars,3)"
   ]
  },
  {
   "cell_type": "code",
   "execution_count": 129,
   "metadata": {},
   "outputs": [
    {
     "data": {
      "text/plain": [
       "            Df Sum Sq Mean Sq F value  Pr(>F)    \n",
       "cars$gear    2  64213   32106   11.42 0.00022 ***\n",
       "Residuals   29  81514    2811                    \n",
       "---\n",
       "Signif. codes:  0 '***' 0.001 '**' 0.01 '*' 0.05 '.' 0.1 ' ' 1"
      ]
     },
     "metadata": {},
     "output_type": "display_data"
    }
   ],
   "source": [
    "#applying anova and putting in the results variable\n",
    "#first converting the variable/factor to factor in R:\n",
    "cars$gear <- as.factor(cars$gear)\n",
    "#PR(>F) is the P-value, since it's smaller than 0.05 we Reject H0\n",
    "results <- aov (cars$hp ~ cars$gear, data=cars)\n",
    "summary(results)"
   ]
  },
  {
   "cell_type": "markdown",
   "metadata": {},
   "source": [
    "#### Tukey Honest Significant Differences:\n",
    "#### ANOVA identifies a difference in means, but which means are significantly different?\n",
    "Tukey HSD Provides Confidence Intervals: Is there a significant difference between 0ffers 0% and 20% of discount?"
   ]
  },
  {
   "cell_type": "code",
   "execution_count": 128,
   "metadata": {},
   "outputs": [
    {
     "data": {
      "text/plain": [
       "  Tukey multiple comparisons of means\n",
       "    95% family-wise confidence level\n",
       "\n",
       "Fit: aov(formula = cars$hp ~ cars$gear, data = cars)\n",
       "\n",
       "$`cars$gear`\n",
       "         diff        lwr       upr     p adj\n",
       "4-3 -86.63333 -137.34379 -35.92288 0.0006267\n",
       "5-3  19.46667  -48.14727  87.08061 0.7589758\n",
       "5-4 106.10000   36.40514 175.79486 0.0021447\n"
      ]
     },
     "metadata": {},
     "output_type": "display_data"
    },
    {
     "data": {
      "image/png": "[encoded data removed]",
      "text/plain": [
       "Plot with title \"Horse Power (Y-Axis) by # of Gears\""
      ]
     },
     "metadata": {},
     "output_type": "display_data"
    }
   ],
   "source": [
    "#since we reject the H0 with anove we'll play with Tukey Honest Significant Differences\n",
    "#Tukey: Which means are significantly different?\n",
    "TukeyHSD(results, conf.level=0.95)\n",
    "#Tukey will show the difference in Horse Power by the different # of Gears\n",
    "#It's curious that cars with 3 Gears have more HP than cars with 4 Gears\n",
    "\n",
    "plot(cars$gear,cars$hp, main=\"Horse Power (Y-Axis) by # of Gears\", ylab=\"HP\",xlab=\"# of Gears\")"
   ]
  }
 ],
 "metadata": {
  "kernelspec": {
   "display_name": "R",
   "language": "R",
   "name": "ir"
  },
  "language_info": {
   "codemirror_mode": "r",
   "file_extension": ".r",
   "mimetype": "text/x-r-source",
   "name": "R",
   "pygments_lexer": "r",
   "version": "3.6.1"
  }
 },
 "nbformat": 4,
 "nbformat_minor": 2
}
