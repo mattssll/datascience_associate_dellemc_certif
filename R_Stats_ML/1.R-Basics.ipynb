{
 "cells": [
  {
   "cell_type": "markdown",
   "metadata": {},
   "source": [
    "# Big Data and Analytics V2 - EMC Certification"
   ]
  },
  {
   "cell_type": "markdown",
   "metadata": {},
   "source": [
    "### R-Programming Language - Walkthrough the Certification"
   ]
  },
  {
   "cell_type": "markdown",
   "metadata": {},
   "source": [
    "<img src=\"https://encrypted-tbn0.gstatic.com/images?q=tbn%3AANd9GcT4r4wSr8WbLpsewIxDWGNXDyUDu5SzUUjrsGJgyRp9LzaCi0CL\" width = \"400px\"></img>"
   ]
  },
  {
   "cell_type": "markdown",
   "metadata": {},
   "source": [
    "##### On this Material you'll find:\n",
    "\n",
    "<ul>\n",
    " <li>Some Basic Commands that will help you</li>\n",
    " <li>How to get Data in (Import) and out (Export) of R </li>\n",
    " <li>Data Types and Data Structures</li>\n",
    " <li>How to Access SQL with R </li>\n",
    "</ul>"
   ]
  },
  {
   "cell_type": "markdown",
   "metadata": {},
   "source": [
    "### Basic Commands that Helps:"
   ]
  },
  {
   "cell_type": "code",
   "execution_count": null,
   "metadata": {},
   "outputs": [],
   "source": [
    "#help command: \"?command\" you need help\n",
    "#example:\n",
    "#?plot"
   ]
  },
  {
   "cell_type": "code",
   "execution_count": 4,
   "metadata": {},
   "outputs": [
    {
     "data": {
      "text/html": [
       "<ol class=list-inline>\n",
       "\t<li>'02_02.ipynb'</li>\n",
       "\t<li>'02_04.ipynb'</li>\n",
       "\t<li>'03_02.ipynb'</li>\n",
       "\t<li>'03_03.ipynb'</li>\n",
       "\t<li>'04_05.ipynb'</li>\n",
       "\t<li>'05_07.ipynb'</li>\n",
       "\t<li>'05_11.ipynb'</li>\n",
       "\t<li>'1.1-Python-Basics-Functions.ipynb'</li>\n",
       "\t<li>'1.3 - Python Basics - Working with Files - csv, xlsx, json - (Open, Write, etc).ipynb'</li>\n",
       "\t<li>'7-Dell_NLP_Cleaning Data, Stemming, Vectorizing, etc.ipynb'</li>\n",
       "\t<li>'AI_ENGINEERING_KERAS_FORECASTING.ipynb'</li>\n",
       "\t<li>'Assignment Viz 2.ipynb'</li>\n",
       "\t<li>'Assignment+2.ipynb'</li>\n",
       "\t<li>'Assignment+3.ipynb'</li>\n",
       "\t<li>'Assignment+4.ipynb'</li>\n",
       "\t<li>'Assignment3_Aviz.ipynb'</li>\n",
       "\t<li>'automl_binary_classification_product_backorders.ipynb'</li>\n",
       "\t<li>'AUTOML_h2o.ipynb'</li>\n",
       "\t<li>'census.csv'</li>\n",
       "\t<li>'citi_bike_small.ipynb'</li>\n",
       "\t<li>'Date_Work.ipynb'</li>\n",
       "\t<li>'First_Studies-Copy1.ipynb'</li>\n",
       "\t<li>'First_Studies.ipynb'</li>\n",
       "\t<li>'HTML_CSS_Basics.ipynb'</li>\n",
       "\t<li>'images'</li>\n",
       "\t<li>'KERAS_COURSERA.ipynb'</li>\n",
       "\t<li>'Michigan Python'</li>\n",
       "\t<li>'ML_ASSIGNMENT_KNN_MICHIGAN PYTHON.ipynb'</li>\n",
       "\t<li>'mtcars.csv'</li>\n",
       "\t<li>'NLP'</li>\n",
       "\t<li>'olympics.csv'</li>\n",
       "\t<li>'PCA and TRY OF REGRESSION.ipynb'</li>\n",
       "\t<li>'PCR_on_sensory_and_fluorescence_data.ipynb'</li>\n",
       "\t<li>'phishing.csv'</li>\n",
       "\t<li>'R Course Saba'</li>\n",
       "\t<li>'R_EMC_Big_Data_Certification - Exploratory Analysis.ipynb'</li>\n",
       "\t<li>'R_EMC_Big_Data_Certification - Model Building and Evaluation.ipynb'</li>\n",
       "\t<li>'R_EMC_Big_Data_Certification - R Basics.ipynb'</li>\n",
       "\t<li>'recommended_system_SVD_single_value_decomposition_algebra_method.ipynb'</li>\n",
       "\t<li>'recommended_systems_classification_based_recom.ipynb'</li>\n",
       "\t<li>'Recommended_Systems_Dell_Course.ipynb'</li>\n",
       "\t<li>'sample.ipynb'</li>\n",
       "\t<li>'simple_regression.ipynb'</li>\n",
       "\t<li>'test_write_python.txt'</li>\n",
       "\t<li>'Untitled Folder'</li>\n",
       "\t<li>'Untitled.ipynb'</li>\n",
       "\t<li>'Untitled1.ipynb'</li>\n",
       "\t<li>'Untitled2.ipynb'</li>\n",
       "</ol>\n"
      ],
      "text/latex": [
       "\\begin{enumerate*}\n",
       "\\item '02\\_02.ipynb'\n",
       "\\item '02\\_04.ipynb'\n",
       "\\item '03\\_02.ipynb'\n",
       "\\item '03\\_03.ipynb'\n",
       "\\item '04\\_05.ipynb'\n",
       "\\item '05\\_07.ipynb'\n",
       "\\item '05\\_11.ipynb'\n",
       "\\item '1.1-Python-Basics-Functions.ipynb'\n",
       "\\item '1.3 - Python Basics - Working with Files - csv, xlsx, json - (Open, Write, etc).ipynb'\n",
       "\\item '7-Dell\\_NLP\\_Cleaning Data, Stemming, Vectorizing, etc.ipynb'\n",
       "\\item 'AI\\_ENGINEERING\\_KERAS\\_FORECASTING.ipynb'\n",
       "\\item 'Assignment Viz 2.ipynb'\n",
       "\\item 'Assignment+2.ipynb'\n",
       "\\item 'Assignment+3.ipynb'\n",
       "\\item 'Assignment+4.ipynb'\n",
       "\\item 'Assignment3\\_Aviz.ipynb'\n",
       "\\item 'automl\\_binary\\_classification\\_product\\_backorders.ipynb'\n",
       "\\item 'AUTOML\\_h2o.ipynb'\n",
       "\\item 'census.csv'\n",
       "\\item 'citi\\_bike\\_small.ipynb'\n",
       "\\item 'Date\\_Work.ipynb'\n",
       "\\item 'First\\_Studies-Copy1.ipynb'\n",
       "\\item 'First\\_Studies.ipynb'\n",
       "\\item 'HTML\\_CSS\\_Basics.ipynb'\n",
       "\\item 'images'\n",
       "\\item 'KERAS\\_COURSERA.ipynb'\n",
       "\\item 'Michigan Python'\n",
       "\\item 'ML\\_ASSIGNMENT\\_KNN\\_MICHIGAN PYTHON.ipynb'\n",
       "\\item 'mtcars.csv'\n",
       "\\item 'NLP'\n",
       "\\item 'olympics.csv'\n",
       "\\item 'PCA and TRY OF REGRESSION.ipynb'\n",
       "\\item 'PCR\\_on\\_sensory\\_and\\_fluorescence\\_data.ipynb'\n",
       "\\item 'phishing.csv'\n",
       "\\item 'R Course Saba'\n",
       "\\item 'R\\_EMC\\_Big\\_Data\\_Certification - Exploratory Analysis.ipynb'\n",
       "\\item 'R\\_EMC\\_Big\\_Data\\_Certification - Model Building and Evaluation.ipynb'\n",
       "\\item 'R\\_EMC\\_Big\\_Data\\_Certification - R Basics.ipynb'\n",
       "\\item 'recommended\\_system\\_SVD\\_single\\_value\\_decomposition\\_algebra\\_method.ipynb'\n",
       "\\item 'recommended\\_systems\\_classification\\_based\\_recom.ipynb'\n",
       "\\item 'Recommended\\_Systems\\_Dell\\_Course.ipynb'\n",
       "\\item 'sample.ipynb'\n",
       "\\item 'simple\\_regression.ipynb'\n",
       "\\item 'test\\_write\\_python.txt'\n",
       "\\item 'Untitled Folder'\n",
       "\\item 'Untitled.ipynb'\n",
       "\\item 'Untitled1.ipynb'\n",
       "\\item 'Untitled2.ipynb'\n",
       "\\end{enumerate*}\n"
      ],
      "text/markdown": [
       "1. '02_02.ipynb'\n",
       "2. '02_04.ipynb'\n",
       "3. '03_02.ipynb'\n",
       "4. '03_03.ipynb'\n",
       "5. '04_05.ipynb'\n",
       "6. '05_07.ipynb'\n",
       "7. '05_11.ipynb'\n",
       "8. '1.1-Python-Basics-Functions.ipynb'\n",
       "9. '1.3 - Python Basics - Working with Files - csv, xlsx, json - (Open, Write, etc).ipynb'\n",
       "10. '7-Dell_NLP_Cleaning Data, Stemming, Vectorizing, etc.ipynb'\n",
       "11. 'AI_ENGINEERING_KERAS_FORECASTING.ipynb'\n",
       "12. 'Assignment Viz 2.ipynb'\n",
       "13. 'Assignment+2.ipynb'\n",
       "14. 'Assignment+3.ipynb'\n",
       "15. 'Assignment+4.ipynb'\n",
       "16. 'Assignment3_Aviz.ipynb'\n",
       "17. 'automl_binary_classification_product_backorders.ipynb'\n",
       "18. 'AUTOML_h2o.ipynb'\n",
       "19. 'census.csv'\n",
       "20. 'citi_bike_small.ipynb'\n",
       "21. 'Date_Work.ipynb'\n",
       "22. 'First_Studies-Copy1.ipynb'\n",
       "23. 'First_Studies.ipynb'\n",
       "24. 'HTML_CSS_Basics.ipynb'\n",
       "25. 'images'\n",
       "26. 'KERAS_COURSERA.ipynb'\n",
       "27. 'Michigan Python'\n",
       "28. 'ML_ASSIGNMENT_KNN_MICHIGAN PYTHON.ipynb'\n",
       "29. 'mtcars.csv'\n",
       "30. 'NLP'\n",
       "31. 'olympics.csv'\n",
       "32. 'PCA and TRY OF REGRESSION.ipynb'\n",
       "33. 'PCR_on_sensory_and_fluorescence_data.ipynb'\n",
       "34. 'phishing.csv'\n",
       "35. 'R Course Saba'\n",
       "36. 'R_EMC_Big_Data_Certification - Exploratory Analysis.ipynb'\n",
       "37. 'R_EMC_Big_Data_Certification - Model Building and Evaluation.ipynb'\n",
       "38. 'R_EMC_Big_Data_Certification - R Basics.ipynb'\n",
       "39. 'recommended_system_SVD_single_value_decomposition_algebra_method.ipynb'\n",
       "40. 'recommended_systems_classification_based_recom.ipynb'\n",
       "41. 'Recommended_Systems_Dell_Course.ipynb'\n",
       "42. 'sample.ipynb'\n",
       "43. 'simple_regression.ipynb'\n",
       "44. 'test_write_python.txt'\n",
       "45. 'Untitled Folder'\n",
       "46. 'Untitled.ipynb'\n",
       "47. 'Untitled1.ipynb'\n",
       "48. 'Untitled2.ipynb'\n",
       "\n",
       "\n"
      ],
      "text/plain": [
       " [1] \"02_02.ipynb\"                                                                          \n",
       " [2] \"02_04.ipynb\"                                                                          \n",
       " [3] \"03_02.ipynb\"                                                                          \n",
       " [4] \"03_03.ipynb\"                                                                          \n",
       " [5] \"04_05.ipynb\"                                                                          \n",
       " [6] \"05_07.ipynb\"                                                                          \n",
       " [7] \"05_11.ipynb\"                                                                          \n",
       " [8] \"1.1-Python-Basics-Functions.ipynb\"                                                    \n",
       " [9] \"1.3 - Python Basics - Working with Files - csv, xlsx, json - (Open, Write, etc).ipynb\"\n",
       "[10] \"7-Dell_NLP_Cleaning Data, Stemming, Vectorizing, etc.ipynb\"                           \n",
       "[11] \"AI_ENGINEERING_KERAS_FORECASTING.ipynb\"                                               \n",
       "[12] \"Assignment Viz 2.ipynb\"                                                               \n",
       "[13] \"Assignment+2.ipynb\"                                                                   \n",
       "[14] \"Assignment+3.ipynb\"                                                                   \n",
       "[15] \"Assignment+4.ipynb\"                                                                   \n",
       "[16] \"Assignment3_Aviz.ipynb\"                                                               \n",
       "[17] \"automl_binary_classification_product_backorders.ipynb\"                                \n",
       "[18] \"AUTOML_h2o.ipynb\"                                                                     \n",
       "[19] \"census.csv\"                                                                           \n",
       "[20] \"citi_bike_small.ipynb\"                                                                \n",
       "[21] \"Date_Work.ipynb\"                                                                      \n",
       "[22] \"First_Studies-Copy1.ipynb\"                                                            \n",
       "[23] \"First_Studies.ipynb\"                                                                  \n",
       "[24] \"HTML_CSS_Basics.ipynb\"                                                                \n",
       "[25] \"images\"                                                                               \n",
       "[26] \"KERAS_COURSERA.ipynb\"                                                                 \n",
       "[27] \"Michigan Python\"                                                                      \n",
       "[28] \"ML_ASSIGNMENT_KNN_MICHIGAN PYTHON.ipynb\"                                              \n",
       "[29] \"mtcars.csv\"                                                                           \n",
       "[30] \"NLP\"                                                                                  \n",
       "[31] \"olympics.csv\"                                                                         \n",
       "[32] \"PCA and TRY OF REGRESSION.ipynb\"                                                      \n",
       "[33] \"PCR_on_sensory_and_fluorescence_data.ipynb\"                                           \n",
       "[34] \"phishing.csv\"                                                                         \n",
       "[35] \"R Course Saba\"                                                                        \n",
       "[36] \"R_EMC_Big_Data_Certification - Exploratory Analysis.ipynb\"                            \n",
       "[37] \"R_EMC_Big_Data_Certification - Model Building and Evaluation.ipynb\"                   \n",
       "[38] \"R_EMC_Big_Data_Certification - R Basics.ipynb\"                                        \n",
       "[39] \"recommended_system_SVD_single_value_decomposition_algebra_method.ipynb\"               \n",
       "[40] \"recommended_systems_classification_based_recom.ipynb\"                                 \n",
       "[41] \"Recommended_Systems_Dell_Course.ipynb\"                                                \n",
       "[42] \"sample.ipynb\"                                                                         \n",
       "[43] \"simple_regression.ipynb\"                                                              \n",
       "[44] \"test_write_python.txt\"                                                                \n",
       "[45] \"Untitled Folder\"                                                                      \n",
       "[46] \"Untitled.ipynb\"                                                                       \n",
       "[47] \"Untitled1.ipynb\"                                                                      \n",
       "[48] \"Untitled2.ipynb\"                                                                      "
      ]
     },
     "metadata": {},
     "output_type": "display_data"
    }
   ],
   "source": [
    "#clean console\n",
    "rm(list=ls())\n",
    "dir()"
   ]
  },
  {
   "cell_type": "code",
   "execution_count": null,
   "metadata": {},
   "outputs": [],
   "source": []
  },
  {
   "cell_type": "code",
   "execution_count": null,
   "metadata": {},
   "outputs": [],
   "source": []
  },
  {
   "cell_type": "markdown",
   "metadata": {},
   "source": [
    "### Importing/Exporting Data with R"
   ]
  },
  {
   "cell_type": "markdown",
   "metadata": {},
   "source": [
    " <img src=\"images/R_EMC_Big_Data/R_Import.png\" width=\"400\" align=\"left\">\n",
    "  <img src=\"images/R_EMC_Big_Data/R_Export.png\" width=\"400\" align=\"right\">"
   ]
  },
  {
   "cell_type": "code",
   "execution_count": 10,
   "metadata": {},
   "outputs": [
    {
     "data": {
      "text/plain": [
       "   o_ring_ct  distress_ct      temperature       pressure       launch_id   \n",
       " Min.   :6   Min.   :0.0000   Min.   :53.00   Min.   : 50.0   Min.   : 1.0  \n",
       " 1st Qu.:6   1st Qu.:0.0000   1st Qu.:67.00   1st Qu.: 75.0   1st Qu.: 6.5  \n",
       " Median :6   Median :0.0000   Median :70.00   Median :200.0   Median :12.0  \n",
       " Mean   :6   Mean   :0.3043   Mean   :69.57   Mean   :152.2   Mean   :12.0  \n",
       " 3rd Qu.:6   3rd Qu.:0.5000   3rd Qu.:75.00   3rd Qu.:200.0   3rd Qu.:17.5  \n",
       " Max.   :6   Max.   :2.0000   Max.   :81.00   Max.   :200.0   Max.   :23.0  "
      ]
     },
     "metadata": {},
     "output_type": "display_data"
    },
    {
     "ename": "ERROR",
     "evalue": "Error in describe(data1): no se pudo encontrar la función \"describe\"\n",
     "output_type": "error",
     "traceback": [
      "Error in describe(data1): no se pudo encontrar la función \"describe\"\nTraceback:\n"
     ]
    }
   ],
   "source": [
    "#get current directory\n",
    "getwd()\n",
    "#importing with read.csv\n",
    "new_work_directory = \"C:/Users/mateus_s_leao/Documents/Data Science and Programming/r-works\"\n",
    "setwd(new_work_directory)\n",
    "data1 <- read.csv(\"challenger.csv\", header=TRUE, sep=\",\")\n",
    "#importing with read.delim\n",
    "#data2 <- read.delim(\"\", header=TRUE, sep=\",\")\n",
    "#summary with statistical info\n",
    "summary(data1)\n",
    "#describe\n"
   ]
  },
  {
   "cell_type": "markdown",
   "metadata": {},
   "source": [
    "### Get and Set the Working Directory:"
   ]
  },
  {
   "cell_type": "code",
   "execution_count": 25,
   "metadata": {},
   "outputs": [],
   "source": [
    "default_work_directory = \"C:/Users/mateus_s_leao/\"\n",
    "setwd(default_work_directory)\n",
    "#to get the working directory:\n",
    "wd = getwd()\n",
    "#to set another working directory:\n",
    "new_work_directory = \"C:/Users/mateus_s_leao/Documents/Data Science and Programming/r-works\"\n",
    "setwd(new_work_directory)\n",
    "#put the new work directory into a variable\n",
    "nwd = getwd()"
   ]
  },
  {
   "cell_type": "markdown",
   "metadata": {},
   "source": [
    "### Two-Ways to Print Text and Variables (Concatenated):"
   ]
  },
  {
   "cell_type": "code",
   "execution_count": 27,
   "metadata": {},
   "outputs": [
    {
     "name": "stdout",
     "output_type": "stream",
     "text": [
      "[1] \"Old working dir with print and paste: C:/Users/mateus_s_leao\"\n",
      "Current working dir with cat:  C:/Users/mateus_s_leao/Documents/Data Science and Programming/r-works"
     ]
    }
   ],
   "source": [
    "#1 - Print and Paste\n",
    "print(paste0(\"Old working dir with print and paste: \", wd))\n",
    "#2 - cat\n",
    "cat(\"Current working dir with cat: \", nwd)"
   ]
  },
  {
   "cell_type": "markdown",
   "metadata": {},
   "source": [
    "### Data Types in R"
   ]
  },
  {
   "cell_type": "markdown",
   "metadata": {},
   "source": [
    "<img src=\"images/R_EMC_Big_Data/Data_Types.png\" width=\"150\" align=\"left\">"
   ]
  },
  {
   "cell_type": "code",
   "execution_count": 37,
   "metadata": {
    "scrolled": true
   },
   "outputs": [
    {
     "name": "stdout",
     "output_type": "stream",
     "text": [
      "my integer is:  5 and the type of it is:  integer \n",
      "my numeric is:  10.42 and the type of it is:  double \n",
      "my string/character is:  my string is a phrase and the type of it is:  character \n",
      "my logical value is:  FALSE and the type of it is:  logical \n",
      "and my factor values are:  1 2 2 3 3 3 \n",
      "\n",
      "[1] \"printing my factor with 4 levels:\"\n"
     ]
    },
    {
     "data": {
      "text/html": [
       "<ol class=list-inline>\n",
       "\t<li>N</li>\n",
       "\t<li>E</li>\n",
       "\t<li>E</li>\n",
       "\t<li>S</li>\n",
       "\t<li>S</li>\n",
       "\t<li>S</li>\n",
       "</ol>\n",
       "\n",
       "<details>\n",
       "\t<summary style=display:list-item;cursor:pointer>\n",
       "\t\t<strong>Levels</strong>:\n",
       "\t</summary>\n",
       "\t<ol class=list-inline>\n",
       "\t\t<li>'N'</li>\n",
       "\t\t<li>'E'</li>\n",
       "\t\t<li>'S'</li>\n",
       "\t\t<li>'W'</li>\n",
       "\t</ol>\n",
       "</details>"
      ],
      "text/latex": [
       "\\begin{enumerate*}\n",
       "\\item N\n",
       "\\item E\n",
       "\\item E\n",
       "\\item S\n",
       "\\item S\n",
       "\\item S\n",
       "\\end{enumerate*}\n",
       "\n",
       "\\emph{Levels}: \\begin{enumerate*}\n",
       "\\item 'N'\n",
       "\\item 'E'\n",
       "\\item 'S'\n",
       "\\item 'W'\n",
       "\\end{enumerate*}\n"
      ],
      "text/markdown": [
       "1. N\n",
       "2. E\n",
       "3. E\n",
       "4. S\n",
       "5. S\n",
       "6. S\n",
       "\n",
       "\n",
       "\n",
       "**Levels**: 1. 'N'\n",
       "2. 'E'\n",
       "3. 'S'\n",
       "4. 'W'\n",
       "\n",
       "\n"
      ],
      "text/plain": [
       "[1] N E E S S S\n",
       "Levels: N E S W"
      ]
     },
     "metadata": {},
     "output_type": "display_data"
    }
   ],
   "source": [
    "#Creating These Data Types\n",
    "#had to convert the integer, otherwise it would be double/numeric\n",
    "integer = as.integer(5)\n",
    "numeric = 10.42\n",
    "character_string = \"my string is a phrase\"\n",
    "logic = FALSE\n",
    "#Creating a Factor: starts with a list\n",
    "directions <- c(\"North\", \"East\", \"East\", \"South\", \"South\", \"South\")\n",
    "dir_factor = factor(directions, levels= c(\"North\", \"East\", \"South\", \"West\"), labels=c(\"N\", \"E\", \"S\", \"W\"))\n",
    "cat(\"my integer is: \", integer, \"and the type of it is: \", typeof(integer),\n",
    "    \"\\nmy numeric is: \", numeric, \"and the type of it is: \", typeof(numeric),\n",
    "    \"\\nmy string/character is: \", character_string, \"and the type of it is: \", typeof(character_string),\n",
    "    \"\\nmy logical value is: \", logic, \"and the type of it is: \", typeof(logic),\n",
    "    \"\\nand my factor values are: \",dir_factor, \"\\n\\n\")\n",
    "print(\"printing my factor with 4 levels:\")\n",
    "dir_factor\n"
   ]
  },
  {
   "cell_type": "markdown",
   "metadata": {},
   "source": [
    "### Data Attributes"
   ]
  },
  {
   "cell_type": "markdown",
   "metadata": {},
   "source": [
    "<img src=\"images/R_EMC_Big_Data/Data_Attributes.png\" width=\"600\" align=\"left\">"
   ]
  },
  {
   "cell_type": "markdown",
   "metadata": {},
   "source": [
    "### Data Structures in R"
   ]
  },
  {
   "cell_type": "markdown",
   "metadata": {},
   "source": [
    "<img src=\"images/R_EMC_Big_Data/Data_Structure.PNG\" width=\"450\" align=\"right\">\n",
    "<ul> \n",
    "    <li>Atomic Vectors</li>\n",
    "        <ul>\n",
    "            <li>Just Referred as Vectors</li>\n",
    "            <li>Indexed Sequence of <b>Same Data Type Items</b></li>\n",
    "        </ul>\n",
    "</ul>\n",
    "\n",
    "<ul> \n",
    "    <li>Lists</li>\n",
    "        <ul>\n",
    "            <li>Special Type of Vector</li>\n",
    "            <li>Contains Indexed Sequence of Objects of <b>Different Types </b></li>\n",
    "        </ul>\n",
    "</ul>\n",
    "\n",
    "<ul> \n",
    "    <li>Arrays</li>\n",
    "        <ul>\n",
    "            <li><b>N-Dimensional</b></li>\n",
    "            <li>Indexed Sequenced of values of <b>Same Data Type</b></li>\n",
    "        </ul>\n",
    "</ul>\n",
    "\n",
    "<ul><li><i>To see type of structures use \"Class()\"</i></li></ul>"
   ]
  },
  {
   "cell_type": "markdown",
   "metadata": {},
   "source": [
    "#### Vector:"
   ]
  },
  {
   "cell_type": "code",
   "execution_count": 76,
   "metadata": {},
   "outputs": [
    {
     "data": {
      "text/html": [
       "3"
      ],
      "text/latex": [
       "3"
      ],
      "text/markdown": [
       "3"
      ],
      "text/plain": [
       "[1] 3"
      ]
     },
     "metadata": {},
     "output_type": "display_data"
    },
    {
     "data": {
      "text/html": [
       "TRUE"
      ],
      "text/latex": [
       "TRUE"
      ],
      "text/markdown": [
       "TRUE"
      ],
      "text/plain": [
       "[1] TRUE"
      ]
     },
     "metadata": {},
     "output_type": "display_data"
    },
    {
     "data": {
      "text/html": [
       "TRUE"
      ],
      "text/latex": [
       "TRUE"
      ],
      "text/markdown": [
       "TRUE"
      ],
      "text/plain": [
       "[1] TRUE"
      ]
     },
     "metadata": {},
     "output_type": "display_data"
    }
   ],
   "source": [
    "#creating some Structures in R\n",
    "#start with Vectors\n",
    "vector_1 <- c(1,2,3,5)\n",
    "#accessing members of vector with indexer\n",
    "vector_1[3]\n",
    "#confirming the type\n",
    "is.atomic(vector_1)\n",
    "is.vector(vector_1)\n"
   ]
  },
  {
   "cell_type": "markdown",
   "metadata": {},
   "source": [
    "#### List:"
   ]
  },
  {
   "cell_type": "code",
   "execution_count": 77,
   "metadata": {},
   "outputs": [
    {
     "data": {
      "text/html": [
       "<ol>\n",
       "\t<li>1</li>\n",
       "\t<li>'Mark'</li>\n",
       "\t<li>523.23</li>\n",
       "\t<li>TRUE</li>\n",
       "\t<li><ol class=list-inline>\n",
       "\t<li>1</li>\n",
       "\t<li>2</li>\n",
       "\t<li>3</li>\n",
       "\t<li>5</li>\n",
       "</ol>\n",
       "</li>\n",
       "</ol>\n"
      ],
      "text/latex": [
       "\\begin{enumerate}\n",
       "\\item 1\n",
       "\\item 'Mark'\n",
       "\\item 523.23\n",
       "\\item TRUE\n",
       "\\item \\begin{enumerate*}\n",
       "\\item 1\n",
       "\\item 2\n",
       "\\item 3\n",
       "\\item 5\n",
       "\\end{enumerate*}\n",
       "\n",
       "\\end{enumerate}\n"
      ],
      "text/markdown": [
       "1. 1\n",
       "2. 'Mark'\n",
       "3. 523.23\n",
       "4. TRUE\n",
       "5. 1. 1\n",
       "2. 2\n",
       "3. 3\n",
       "4. 5\n",
       "\n",
       "\n",
       "\n",
       "\n",
       "\n"
      ],
      "text/plain": [
       "[[1]]\n",
       "[1] 1\n",
       "\n",
       "[[2]]\n",
       "[1] \"Mark\"\n",
       "\n",
       "[[3]]\n",
       "[1] 523.23\n",
       "\n",
       "[[4]]\n",
       "[1] TRUE\n",
       "\n",
       "[[5]]\n",
       "[1] 1 2 3 5\n"
      ]
     },
     "metadata": {},
     "output_type": "display_data"
    },
    {
     "name": "stdout",
     "output_type": "stream",
     "text": [
      "getting the 4th element of the 5th element of the list:  5 \n",
      "\n"
     ]
    }
   ],
   "source": [
    "#creating a list\n",
    "list_1 = list(1,\"Mark\",523.23,TRUE, vector_1)\n",
    "#list displays the multiple vector values (vector_1 above) in just one line\n",
    "list_1\n",
    "cat(\"getting the 4th element of the 5th element of the list: \",list_1[[5]][[4]],\"\\n\\n\")\n",
    "\n",
    "\n"
   ]
  },
  {
   "cell_type": "markdown",
   "metadata": {},
   "source": [
    "#### Array (3 Dimensions, 3rd being page)"
   ]
  },
  {
   "cell_type": "code",
   "execution_count": 110,
   "metadata": {},
   "outputs": [
    {
     "name": "stdout",
     "output_type": "stream",
     "text": [
      ", , 1\n",
      "\n",
      "     [,1] [,2] [,3] [,4]\n",
      "[1,]   10    5    5    5\n",
      "[2,]    5    5    5    5\n",
      "[3,]    5    5    5    5\n",
      "\n",
      ", , 2\n",
      "\n",
      "     [,1] [,2] [,3] [,4]\n",
      "[1,]   10    1    6    1\n",
      "[2,]    1    1    6    1\n",
      "[3,]    1    1    6    1\n",
      "\n"
     ]
    },
    {
     "data": {
      "text/html": [
       "'array'"
      ],
      "text/latex": [
       "'array'"
      ],
      "text/markdown": [
       "'array'"
      ],
      "text/plain": [
       "[1] \"array\""
      ]
     },
     "metadata": {},
     "output_type": "display_data"
    }
   ],
   "source": [
    "#Arrays (N-Dimensional)\n",
    "#build a 3 dimensional array\n",
    "#with rows = 3, col = 4, and pages = 2\n",
    "array_1 <- array(1, dim=c(3,4,2))\n",
    "#assign values to array\n",
    "array_1[,,1] <- 5\n",
    "array_1[1,1,1] <- 10\n",
    "array_1[1,1,2] <- 10\n",
    "array_1[,3,2] <- 6\n",
    "\n",
    "print(array_1)\n",
    "#see type of structure\n",
    "class(array_1)"
   ]
  },
  {
   "cell_type": "markdown",
   "metadata": {},
   "source": [
    "#### Matrix, Matrices:\n",
    "<ul>\n",
    "    <li>2-dim array</li>\n",
    "    <li>1 Data Type only</li>\n",
    "    <li>Transpose - t()</li>\n",
    "    <li>Multiplication - %*%</li>\n",
    "    <li>Determinant - det()</li>\n",
    "</ul>"
   ]
  },
  {
   "cell_type": "code",
   "execution_count": 108,
   "metadata": {},
   "outputs": [
    {
     "data": {
      "text/html": [
       "<table>\n",
       "<tbody>\n",
       "\t<tr><td>1 </td><td>26</td><td>a </td></tr>\n",
       "\t<tr><td>2 </td><td>25</td><td>b </td></tr>\n",
       "\t<tr><td>3 </td><td>24</td><td>c </td></tr>\n",
       "\t<tr><td>4 </td><td>23</td><td>d </td></tr>\n",
       "\t<tr><td>5 </td><td>22</td><td>e </td></tr>\n",
       "</tbody>\n",
       "</table>\n"
      ],
      "text/latex": [
       "\\begin{tabular}{lll}\n",
       "\t 1  & 26 & a \\\\\n",
       "\t 2  & 25 & b \\\\\n",
       "\t 3  & 24 & c \\\\\n",
       "\t 4  & 23 & d \\\\\n",
       "\t 5  & 22 & e \\\\\n",
       "\\end{tabular}\n"
      ],
      "text/markdown": [
       "\n",
       "| 1  | 26 | a  |\n",
       "| 2  | 25 | b  |\n",
       "| 3  | 24 | c  |\n",
       "| 4  | 23 | d  |\n",
       "| 5  | 22 | e  |\n",
       "\n"
      ],
      "text/plain": [
       "     [,1] [,2] [,3]\n",
       "[1,] 1    26   a   \n",
       "[2,] 2    25   b   \n",
       "[3,] 3    24   c   \n",
       "[4,] 4    23   d   \n",
       "[5,] 5    22   e   "
      ]
     },
     "metadata": {},
     "output_type": "display_data"
    },
    {
     "data": {
      "text/html": [
       "'matrix'"
      ],
      "text/latex": [
       "'matrix'"
      ],
      "text/markdown": [
       "'matrix'"
      ],
      "text/plain": [
       "[1] \"matrix\""
      ]
     },
     "metadata": {},
     "output_type": "display_data"
    }
   ],
   "source": [
    "#demonstrating how to create a matrix with R\n",
    "letter_mat <- matrix(c(1:26, 26:1, letters), nrow=26,ncol=3)\n",
    "head(letter_mat,5)\n",
    "#see type of structure\n",
    "class(letter_mat)"
   ]
  },
  {
   "cell_type": "markdown",
   "metadata": {},
   "source": [
    "#### Data Frames (Tables)\n",
    "<ul>\n",
    "    <li>2-dim data structure</li>\n",
    "    <li>Columns can be easily referenced by name</li>\n",
    "    <li>Different Columns may have different Data Types</li>\n",
    "    <li><b>By Default, data.frame() treats character data as factor</b></li>\n",
    "</ul>"
   ]
  },
  {
   "cell_type": "code",
   "execution_count": 111,
   "metadata": {},
   "outputs": [
    {
     "data": {
      "text/html": [
       "<table>\n",
       "<thead><tr><th scope=col>seq</th><th scope=col>letters</th></tr></thead>\n",
       "<tbody>\n",
       "\t<tr><td>1</td><td>a</td></tr>\n",
       "\t<tr><td>2</td><td>b</td></tr>\n",
       "\t<tr><td>3</td><td>c</td></tr>\n",
       "\t<tr><td>4</td><td>d</td></tr>\n",
       "\t<tr><td>5</td><td>e</td></tr>\n",
       "\t<tr><td>6</td><td>f</td></tr>\n",
       "</tbody>\n",
       "</table>\n"
      ],
      "text/latex": [
       "\\begin{tabular}{r|ll}\n",
       " seq & letters\\\\\n",
       "\\hline\n",
       "\t 1 & a\\\\\n",
       "\t 2 & b\\\\\n",
       "\t 3 & c\\\\\n",
       "\t 4 & d\\\\\n",
       "\t 5 & e\\\\\n",
       "\t 6 & f\\\\\n",
       "\\end{tabular}\n"
      ],
      "text/markdown": [
       "\n",
       "| seq | letters |\n",
       "|---|---|\n",
       "| 1 | a |\n",
       "| 2 | b |\n",
       "| 3 | c |\n",
       "| 4 | d |\n",
       "| 5 | e |\n",
       "| 6 | f |\n",
       "\n"
      ],
      "text/plain": [
       "  seq letters\n",
       "1 1   a      \n",
       "2 2   b      \n",
       "3 3   c      \n",
       "4 4   d      \n",
       "5 5   e      \n",
       "6 6   f      "
      ]
     },
     "metadata": {},
     "output_type": "display_data"
    },
    {
     "data": {
      "text/html": [
       "'data.frame'"
      ],
      "text/latex": [
       "'data.frame'"
      ],
      "text/markdown": [
       "'data.frame'"
      ],
      "text/plain": [
       "[1] \"data.frame\""
      ]
     },
     "metadata": {},
     "output_type": "display_data"
    }
   ],
   "source": [
    "seq <- c(1:26)\n",
    "letter_df <- data.frame(seq, letters, stringsAsFactors=FALSE)\n",
    "head(letter_df)\n",
    "#see type of structure\n",
    "print(\"my type of structure is :\", class(letter_df)"
   ]
  },
  {
   "cell_type": "markdown",
   "metadata": {},
   "source": [
    "#### Factors\n",
    "<ul>\n",
    "    <li>A factor is a variable with specific levels (categories)</li>\n",
    "    <li>Useful to Analyze Categorical Data</li>\n",
    "    <li>Two Types of Factors:</li>\n",
    "        <ul>\n",
    "            <li>Unordered for Nominal Data: Cat, Dog, Monkey</li>\n",
    "            <li>Ordered for Ordinal Data: Gold, Silver, Bronze</li>\n",
    "        </ul>\n",
    "</ul>"
   ]
  },
  {
   "cell_type": "code",
   "execution_count": null,
   "metadata": {},
   "outputs": [],
   "source": []
  },
  {
   "cell_type": "markdown",
   "metadata": {},
   "source": [
    "### Access SQL Database with R"
   ]
  },
  {
   "cell_type": "code",
   "execution_count": null,
   "metadata": {},
   "outputs": [],
   "source": [
    "#Add RODBC Package\n",
    "#install.packages(\"RODBC\")\n",
    "#library(RODBC)\n",
    "#Establish ODBC Connection\n",
    "#conn <- odbcConnect(\"mydb\",\n",
    "#                   uid=\"user\",\n",
    "#                   pwd=\"password\")\n",
    "#Import Data from Query\n",
    "#query <- sqlQuery(conn, \"select * from table\")"
   ]
  }
 ],
 "metadata": {
  "kernelspec": {
   "display_name": "R",
   "language": "R",
   "name": "ir"
  },
  "language_info": {
   "codemirror_mode": "r",
   "file_extension": ".r",
   "mimetype": "text/x-r-source",
   "name": "R",
   "pygments_lexer": "r",
   "version": "3.6.2"
  }
 },
 "nbformat": 4,
 "nbformat_minor": 2
}
