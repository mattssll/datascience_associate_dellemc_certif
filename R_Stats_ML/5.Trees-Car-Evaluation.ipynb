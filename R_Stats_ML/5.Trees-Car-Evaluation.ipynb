{
 "cells": [
  {
   "cell_type": "markdown",
   "metadata": {},
   "source": [
    "# Decision Trees"
   ]
  },
  {
   "cell_type": "markdown",
   "metadata": {},
   "source": [
    "This exercise is part of the Dell EMC Big Data and Analytics Associate Certificate"
   ]
  },
  {
   "cell_type": "markdown",
   "metadata": {},
   "source": [
    "### 1. Reading Data"
   ]
  },
  {
   "cell_type": "code",
   "execution_count": 7,
   "metadata": {},
   "outputs": [],
   "source": [
    "car_data <- read.table(\"datasets/car_evaluation.csv\", header=TRUE, sep=\",\")"
   ]
  },
  {
   "cell_type": "code",
   "execution_count": 35,
   "metadata": {},
   "outputs": [
    {
     "data": {
      "text/plain": [
       "   buying      maint       doors     persons     lug_boot    safety   \n",
       " high :432   high :432   2    :432   2   :576   big  :576   high:576  \n",
       " low  :432   low  :432   3    :432   4   :576   med  :576   low :576  \n",
       " med  :432   med  :432   4    :432   more:576   small:576   med :576  \n",
       " vhigh:432   vhigh:432   5more:432                                    \n",
       " car_acceptability \n",
       " Length:1728       \n",
       " Class :character  \n",
       " Mode  :character  \n",
       "                   "
      ]
     },
     "metadata": {},
     "output_type": "display_data"
    }
   ],
   "source": [
    "# Transform Label Column to be \"Acceptable or NotAcceptable\n",
    "accept_or_not <- function(acceptable){\n",
    "    if(acceptable == \"unacc\"){\n",
    "        return(\"unacc\")\n",
    "    }else if(acceptable != \"unacc\"){\n",
    "        return(\"acc\")\n",
    "    }\n",
    "}\n",
    "\n",
    "car_data$car_acceptability <- sapply(car_data$car_acceptability, accept_or_not)\n",
    "\n",
    "\n",
    "summary(car_data)"
   ]
  },
  {
   "cell_type": "code",
   "execution_count": 36,
   "metadata": {},
   "outputs": [],
   "source": [
    "car_data_mod <- car_data"
   ]
  },
  {
   "cell_type": "code",
   "execution_count": 37,
   "metadata": {},
   "outputs": [],
   "source": [
    "car_data_mod$buying <- factor(car_data_mod$buying, levels = c(\"low\", \"med\", \"high\", \"vhigh\"), ordered=TRUE)\n",
    "car_data_mod$maint <- factor(car_data_mod$maint, levels = c(\"low\", \"med\", \"high\", \"vhigh\"), ordered=TRUE)\n",
    "car_data_mod$doors <- factor(car_data_mod$doors, levels = c(\"2\", \"3\", \"4\", \"5more\"), ordered=TRUE)\n",
    "car_data_mod$persons <- factor(car_data_mod$persons, levels = c(\"2\", \"4\", \"more\"), ordered=TRUE)\n",
    "car_data_mod$lug_boot <- factor(car_data_mod$lug_boot, levels = c(\"small\", \"med\", \"big\"), ordered=TRUE)\n",
    "car_data_mod$safety <- factor(car_data_mod$safety, levels = c(\"low\", \"med\", \"high\"), ordered=TRUE)\n",
    "car_data_mod$car_acceptability <- factor(car_data_mod$car_acceptability, levels = c(\"acc\", \"unacc\"), ordered=TRUE)"
   ]
  },
  {
   "cell_type": "markdown",
   "metadata": {},
   "source": [
    "### 2. Split Data into training and test set"
   ]
  },
  {
   "cell_type": "code",
   "execution_count": 66,
   "metadata": {},
   "outputs": [
    {
     "data": {
      "text/html": [
       "<table>\n",
       "<caption>A data.frame: 6 × 7</caption>\n",
       "<thead>\n",
       "\t<tr><th></th><th scope=col>buying</th><th scope=col>maint</th><th scope=col>doors</th><th scope=col>persons</th><th scope=col>lug_boot</th><th scope=col>safety</th><th scope=col>car_acceptability</th></tr>\n",
       "\t<tr><th></th><th scope=col>&lt;ord&gt;</th><th scope=col>&lt;ord&gt;</th><th scope=col>&lt;ord&gt;</th><th scope=col>&lt;ord&gt;</th><th scope=col>&lt;ord&gt;</th><th scope=col>&lt;ord&gt;</th><th scope=col>&lt;ord&gt;</th></tr>\n",
       "</thead>\n",
       "<tbody>\n",
       "\t<tr><th scope=row>1</th><td>vhigh</td><td>vhigh</td><td>2</td><td>2</td><td>small</td><td>low </td><td>unacc</td></tr>\n",
       "\t<tr><th scope=row>2</th><td>vhigh</td><td>vhigh</td><td>2</td><td>2</td><td>small</td><td>med </td><td>unacc</td></tr>\n",
       "\t<tr><th scope=row>3</th><td>vhigh</td><td>vhigh</td><td>2</td><td>2</td><td>small</td><td>high</td><td>unacc</td></tr>\n",
       "\t<tr><th scope=row>4</th><td>vhigh</td><td>vhigh</td><td>2</td><td>2</td><td>med  </td><td>low </td><td>unacc</td></tr>\n",
       "\t<tr><th scope=row>5</th><td>vhigh</td><td>vhigh</td><td>2</td><td>2</td><td>med  </td><td>med </td><td>unacc</td></tr>\n",
       "\t<tr><th scope=row>6</th><td>vhigh</td><td>vhigh</td><td>2</td><td>2</td><td>med  </td><td>high</td><td>unacc</td></tr>\n",
       "</tbody>\n",
       "</table>\n"
      ],
      "text/latex": [
       "A data.frame: 6 × 7\n",
       "\\begin{tabular}{r|lllllll}\n",
       "  & buying & maint & doors & persons & lug\\_boot & safety & car\\_acceptability\\\\\n",
       "  & <ord> & <ord> & <ord> & <ord> & <ord> & <ord> & <ord>\\\\\n",
       "\\hline\n",
       "\t1 & vhigh & vhigh & 2 & 2 & small & low  & unacc\\\\\n",
       "\t2 & vhigh & vhigh & 2 & 2 & small & med  & unacc\\\\\n",
       "\t3 & vhigh & vhigh & 2 & 2 & small & high & unacc\\\\\n",
       "\t4 & vhigh & vhigh & 2 & 2 & med   & low  & unacc\\\\\n",
       "\t5 & vhigh & vhigh & 2 & 2 & med   & med  & unacc\\\\\n",
       "\t6 & vhigh & vhigh & 2 & 2 & med   & high & unacc\\\\\n",
       "\\end{tabular}\n"
      ],
      "text/markdown": [
       "\n",
       "A data.frame: 6 × 7\n",
       "\n",
       "| <!--/--> | buying &lt;ord&gt; | maint &lt;ord&gt; | doors &lt;ord&gt; | persons &lt;ord&gt; | lug_boot &lt;ord&gt; | safety &lt;ord&gt; | car_acceptability &lt;ord&gt; |\n",
       "|---|---|---|---|---|---|---|---|\n",
       "| 1 | vhigh | vhigh | 2 | 2 | small | low  | unacc |\n",
       "| 2 | vhigh | vhigh | 2 | 2 | small | med  | unacc |\n",
       "| 3 | vhigh | vhigh | 2 | 2 | small | high | unacc |\n",
       "| 4 | vhigh | vhigh | 2 | 2 | med   | low  | unacc |\n",
       "| 5 | vhigh | vhigh | 2 | 2 | med   | med  | unacc |\n",
       "| 6 | vhigh | vhigh | 2 | 2 | med   | high | unacc |\n",
       "\n"
      ],
      "text/plain": [
       "  buying maint doors persons lug_boot safety car_acceptability\n",
       "1 vhigh  vhigh 2     2       small    low    unacc            \n",
       "2 vhigh  vhigh 2     2       small    med    unacc            \n",
       "3 vhigh  vhigh 2     2       small    high   unacc            \n",
       "4 vhigh  vhigh 2     2       med      low    unacc            \n",
       "5 vhigh  vhigh 2     2       med      med    unacc            \n",
       "6 vhigh  vhigh 2     2       med      high   unacc            "
      ]
     },
     "metadata": {},
     "output_type": "display_data"
    }
   ],
   "source": [
    "library(caTools)\n",
    "set.seed(4000) # So we'll get same results running the model many times\n",
    "rows <- sample.split(car_data_mod$car_acceptability, SplitRatio=0.8)\n",
    "car_data_train <-subset(car_data_mod, rows == TRUE)\n",
    "car_data_test <- subset(car_data_mod, rows == FALSE)\n",
    "head(car_data_mod)"
   ]
  },
  {
   "cell_type": "markdown",
   "metadata": {},
   "source": [
    "### 3. Build the Decision Tree"
   ]
  },
  {
   "cell_type": "code",
   "execution_count": 67,
   "metadata": {},
   "outputs": [
    {
     "name": "stdout",
     "output_type": "stream",
     "text": [
      "Call:\n",
      "rpart(formula = car_acceptability ~ buying + maint + doors + \n",
      "    persons + lug_boot + safety, data = car_data_mod, parms = list(split = \"information\"), \n",
      "    control = rpart.control(minsplit = 140))\n",
      "  n= 1728 \n",
      "\n",
      "          CP nsplit rel error    xerror       xstd\n",
      "1 0.25868726      0 1.0000000 1.0000000 0.03676681\n",
      "2 0.09266409      2 0.4826255 0.4826255 0.02822966\n",
      "3 0.05019305      4 0.2972973 0.2972973 0.02286447\n",
      "4 0.01158301      5 0.2471042 0.2895753 0.02259423\n",
      "5 0.01000000      6 0.2355212 0.2934363 0.02272994\n",
      "\n",
      "Variable importance\n",
      "  safety  persons    maint   buying lug_boot \n",
      "      40       34       13       10        3 \n",
      "\n",
      "Node number 1: 1728 observations,    complexity param=0.2586873\n",
      "  predicted class=unacc  expected loss=0.2997685  P(node) =1\n",
      "    class counts:   518  1210\n",
      "   probabilities: 0.300 0.700 \n",
      "  left son=2 (1152 obs) right son=3 (576 obs)\n",
      "  Primary splits:\n",
      "      persons  splits as  RLL,  improve=262.57900, (0 missing)\n",
      "      safety   splits as  RLL,  improve=262.57900, (0 missing)\n",
      "      buying   splits as  LLRR, improve= 34.83003, (0 missing)\n",
      "      maint    splits as  LLRR, improve= 26.49267, (0 missing)\n",
      "      lug_boot splits as  RLL,  improve= 13.96437, (0 missing)\n",
      "\n",
      "Node number 2: 1152 observations,    complexity param=0.2586873\n",
      "  predicted class=unacc  expected loss=0.4496528  P(node) =0.6666667\n",
      "    class counts:   518   634\n",
      "   probabilities: 0.450 0.550 \n",
      "  left son=4 (768 obs) right son=5 (384 obs)\n",
      "  Primary splits:\n",
      "      safety   splits as  RLL,  improve=308.07730, (0 missing)\n",
      "      buying   splits as  LLRR, improve= 44.38153, (0 missing)\n",
      "      maint    splits as  LLRR, improve= 33.74593, (0 missing)\n",
      "      lug_boot splits as  RLL,  improve= 17.47336, (0 missing)\n",
      "      doors    splits as  RLLL, improve=  5.22360, (0 missing)\n",
      "\n",
      "Node number 3: 576 observations\n",
      "  predicted class=unacc  expected loss=0  P(node) =0.3333333\n",
      "    class counts:     0   576\n",
      "   probabilities: 0.000 1.000 \n",
      "\n",
      "Node number 4: 768 observations,    complexity param=0.09266409\n",
      "  predicted class=acc    expected loss=0.3255208  P(node) =0.4444444\n",
      "    class counts:   518   250\n",
      "   probabilities: 0.674 0.326 \n",
      "  left son=8 (384 obs) right son=9 (384 obs)\n",
      "  Primary splits:\n",
      "      buying   splits as  LLRR, improve=78.420360, (0 missing)\n",
      "      maint    splits as  LLRR, improve=58.911840, (0 missing)\n",
      "      lug_boot splits as  RLL,  improve=28.375130, (0 missing)\n",
      "      safety   splits as  RRL,  improve=19.230330, (0 missing)\n",
      "      doors    splits as  RLLL, improve= 8.459112, (0 missing)\n",
      "\n",
      "Node number 5: 384 observations\n",
      "  predicted class=unacc  expected loss=0  P(node) =0.2222222\n",
      "    class counts:     0   384\n",
      "   probabilities: 0.000 1.000 \n",
      "\n",
      "Node number 8: 384 observations\n",
      "  predicted class=acc    expected loss=0.1197917  P(node) =0.2222222\n",
      "    class counts:   338    46\n",
      "   probabilities: 0.880 0.120 \n",
      "\n",
      "Node number 9: 384 observations,    complexity param=0.09266409\n",
      "  predicted class=unacc  expected loss=0.46875  P(node) =0.2222222\n",
      "    class counts:   180   204\n",
      "   probabilities: 0.469 0.531 \n",
      "  left son=18 (288 obs) right son=19 (96 obs)\n",
      "  Primary splits:\n",
      "      maint    splits as  LLLR, improve=74.887820, (0 missing)\n",
      "      lug_boot splits as  RLL,  improve=15.145910, (0 missing)\n",
      "      safety   splits as  RRL,  improve=13.226950, (0 missing)\n",
      "      buying   splits as  LLLR, improve= 6.817559, (0 missing)\n",
      "      doors    splits as  RLLL, improve= 2.821646, (0 missing)\n",
      "\n",
      "Node number 18: 288 observations,    complexity param=0.05019305\n",
      "  predicted class=acc    expected loss=0.375  P(node) =0.1666667\n",
      "    class counts:   180   108\n",
      "   probabilities: 0.625 0.375 \n",
      "  left son=36 (192 obs) right son=37 (96 obs)\n",
      "  Primary splits:\n",
      "      lug_boot splits as  RLL,  improve=20.697490, (0 missing)\n",
      "      safety   splits as  RRL,  improve=19.064310, (0 missing)\n",
      "      maint    splits as  LLRR, improve=19.051790, (0 missing)\n",
      "      buying   splits as  LLLR, improve= 9.740758, (0 missing)\n",
      "      doors    splits as  RLLL, improve= 3.867925, (0 missing)\n",
      "\n",
      "Node number 19: 96 observations\n",
      "  predicted class=unacc  expected loss=0  P(node) =0.05555556\n",
      "    class counts:     0    96\n",
      "   probabilities: 0.000 1.000 \n",
      "\n",
      "Node number 36: 192 observations,    complexity param=0.01158301\n",
      "  predicted class=acc    expected loss=0.2447917  P(node) =0.1111111\n",
      "    class counts:   145    47\n",
      "   probabilities: 0.755 0.245 \n",
      "  left son=72 (128 obs) right son=73 (64 obs)\n",
      "  Primary splits:\n",
      "      maint    splits as  LLRR, improve=22.951490, (0 missing)\n",
      "      buying   splits as  LLLR, improve=12.543920, (0 missing)\n",
      "      doors    splits as  RRLL, improve= 3.213255, (0 missing)\n",
      "      lug_boot splits as  RRL,  improve= 3.213255, (0 missing)\n",
      "      safety   splits as  RRL,  improve= 3.213255, (0 missing)\n",
      "\n",
      "Node number 37: 96 observations\n",
      "  predicted class=unacc  expected loss=0.3645833  P(node) =0.05555556\n",
      "    class counts:    35    61\n",
      "   probabilities: 0.365 0.635 \n",
      "\n",
      "Node number 72: 128 observations\n",
      "  predicted class=acc    expected loss=0.09375  P(node) =0.07407407\n",
      "    class counts:   116    12\n",
      "   probabilities: 0.906 0.094 \n",
      "\n",
      "Node number 73: 64 observations\n",
      "  predicted class=unacc  expected loss=0.453125  P(node) =0.03703704\n",
      "    class counts:    29    35\n",
      "   probabilities: 0.453 0.547 \n",
      "\n"
     ]
    }
   ],
   "source": [
    "library(rpart)\n",
    "\n",
    "# Set minimum node size to split to 140 to avoid overfitting\n",
    "model <- rpart(car_acceptability ~ buying + maint + doors + persons + lug_boot + safety, data=car_data_mod,\n",
    "            control=rpart.control(minsplit=140), parms=list(split='information'))\n",
    "\n",
    "summary(model)\n",
    "# SPLIT 6 bring best results (lowest errors)\n",
    "# Variable importance is also printed"
   ]
  },
  {
   "cell_type": "markdown",
   "metadata": {},
   "source": [
    "### Plot the Decision Tree"
   ]
  },
  {
   "cell_type": "code",
   "execution_count": 68,
   "metadata": {},
   "outputs": [
    {
     "data": {
      "image/png": "[encoded data removed]",
      "text/plain": [
       "plot without title"
      ]
     },
     "metadata": {
      "image/png": {
       "height": 420,
       "width": 420
      }
     },
     "output_type": "display_data"
    }
   ],
   "source": [
    "#?rpart.plot\n",
    "#!install.packages(\"rpart.plot\")\n",
    "library(\"rpart.plot\")\n",
    "rpart.plot(model, type=4, extra=1)\n",
    "# cars with 2 doors are unacceptable (in terms of a good decision)"
   ]
  },
  {
   "cell_type": "code",
   "execution_count": 69,
   "metadata": {},
   "outputs": [
    {
     "data": {
      "text/html": [
       "<style>\n",
       ".dl-inline {width: auto; margin:0; padding: 0}\n",
       ".dl-inline>dt, .dl-inline>dd {float: none; width: auto; display: inline-block}\n",
       ".dl-inline>dt::after {content: \":\\0020\"; padding-right: .5ex}\n",
       ".dl-inline>dt:not(:first-of-type) {padding-left: .5ex}\n",
       "</style><dl class=dl-inline><dt>safety</dt><dd>308.077254421672</dd><dt>persons</dt><dd>262.579009792619</dd><dt>maint</dt><dd>97.8393092685099</dd><dt>buying</dt><dd>78.420358530281</dd><dt>lug_boot</dt><dd>20.69749257731</dd></dl>\n"
      ],
      "text/latex": [
       "\\begin{description*}\n",
       "\\item[safety] 308.077254421672\n",
       "\\item[persons] 262.579009792619\n",
       "\\item[maint] 97.8393092685099\n",
       "\\item[buying] 78.420358530281\n",
       "\\item[lug\\textbackslash{}\\_boot] 20.69749257731\n",
       "\\end{description*}\n"
      ],
      "text/markdown": [
       "safety\n",
       ":   308.077254421672persons\n",
       ":   262.579009792619maint\n",
       ":   97.8393092685099buying\n",
       ":   78.420358530281lug_boot\n",
       ":   20.69749257731\n",
       "\n"
      ],
      "text/plain": [
       "   safety   persons     maint    buying  lug_boot \n",
       "308.07725 262.57901  97.83931  78.42036  20.69749 "
      ]
     },
     "metadata": {},
     "output_type": "display_data"
    }
   ],
   "source": [
    "model$variable.importance"
   ]
  },
  {
   "cell_type": "markdown",
   "metadata": {},
   "source": [
    "### Do Predictions - Apply Fitted Model to the Test Dataset"
   ]
  },
  {
   "cell_type": "code",
   "execution_count": 70,
   "metadata": {},
   "outputs": [],
   "source": [
    "pred_car_acc <- predict(model, newdata = car_data_test, type=\"class\")"
   ]
  },
  {
   "cell_type": "markdown",
   "metadata": {},
   "source": [
    "### Build Confusion Matrix"
   ]
  },
  {
   "cell_type": "code",
   "execution_count": 73,
   "metadata": {},
   "outputs": [
    {
     "name": "stderr",
     "output_type": "stream",
     "text": [
      "Warning message:\n",
      "\"package 'gmodels' was built under R version 3.6.3\"\n"
     ]
    },
    {
     "name": "stdout",
     "output_type": "stream",
     "text": [
      "\n",
      " \n",
      "   Cell Contents\n",
      "|-------------------------|\n",
      "|                       N |\n",
      "| Chi-square contribution |\n",
      "|           N / Row Total |\n",
      "|           N / Col Total |\n",
      "|-------------------------|\n",
      "\n",
      " \n",
      "Total Observations in Table:  346 \n",
      "\n",
      " \n",
      "             | actual \n",
      "   predicted |       acc |     unacc | Row Total | \n",
      "-------------|-----------|-----------|-----------|\n",
      "         acc |        97 |        12 |       109 | \n",
      "             |   125.947 |    54.126 |           | \n",
      "             |     0.890 |     0.110 |     0.315 | \n",
      "             |     0.933 |     0.050 |           | \n",
      "-------------|-----------|-----------|-----------|\n",
      "       unacc |         7 |       230 |       237 | \n",
      "             |    57.925 |    24.893 |           | \n",
      "             |     0.030 |     0.970 |     0.685 | \n",
      "             |     0.067 |     0.950 |           | \n",
      "-------------|-----------|-----------|-----------|\n",
      "Column Total |       104 |       242 |       346 | \n",
      "             |     0.301 |     0.699 |           | \n",
      "-------------|-----------|-----------|-----------|\n",
      "\n",
      " \n"
     ]
    }
   ],
   "source": [
    "# !install.packages(\"gmodels\")\n",
    "library(gmodels)\n",
    "\n",
    "CrossTable(pred_car_acc,\n",
    "          car_data_test$car_acceptability,\n",
    "          prop.chistq = FALSE, # as before\n",
    "          prop.t = FALSE, # eliminate cell proportions\n",
    "          dnn = c(\"predicted\", \"actual\"))\n",
    "\n",
    "# 5% of False Positives\n",
    "# 6.7% of False Negatives"
   ]
  },
  {
   "cell_type": "code",
   "execution_count": null,
   "metadata": {},
   "outputs": [],
   "source": []
  }
 ],
 "metadata": {
  "kernelspec": {
   "display_name": "R",
   "language": "R",
   "name": "ir"
  },
  "language_info": {
   "codemirror_mode": "r",
   "file_extension": ".r",
   "mimetype": "text/x-r-source",
   "name": "R",
   "pygments_lexer": "r",
   "version": "3.6.1"
  }
 },
 "nbformat": 4,
 "nbformat_minor": 2
}
