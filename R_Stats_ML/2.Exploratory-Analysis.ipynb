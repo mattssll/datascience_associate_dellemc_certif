{
 "cells": [
  {
   "cell_type": "markdown",
   "metadata": {},
   "source": [
    "# Big Data and Analytics V2 - EMC Certification"
   ]
  },
  {
   "cell_type": "markdown",
   "metadata": {},
   "source": [
    "### R-Programming Language - Walkthrough the Certification: Analyzing and Exploring Data"
   ]
  },
  {
   "cell_type": "markdown",
   "metadata": {},
   "source": [
    "<img src=\"https://encrypted-tbn0.gstatic.com/images?q=tbn%3AANd9GcT4r4wSr8WbLpsewIxDWGNXDyUDu5SzUUjrsGJgyRp9LzaCi0CL\" width = \"400px\"></img>"
   ]
  },
  {
   "cell_type": "markdown",
   "metadata": {},
   "source": [
    "##### In this Material you'll find:\n",
    "\n",
    "<ul>\n",
    " <li>Some Basic Commands that will help you</li>\n",
    " <li>How to get Data in (Import) and out (Export) of R </li>\n",
    " <li>Visualization and Subplots</li>  \n",
    " <li>Data Types and Data Structures</li>\n",
    " <li>How to Access SQL with R </li>\n",
    "</ul>"
   ]
  },
  {
   "cell_type": "markdown",
   "metadata": {},
   "source": [
    "###### class() - what kind of object is it (high-level)?\n",
    "##### typeof() - what is the object’s data type (low-level)?\n",
    "##### length() - how long is it? What about two dimensional objects?\n",
    "##### attributes() - does it have any metadata?"
   ]
  },
  {
   "cell_type": "markdown",
   "metadata": {},
   "source": [
    "### Anscombe's Quartet: Same Properties, Different Data - \n",
    "<p>Just to say that mean, median, variance, std dev., they can be the same for different datasets</p>"
   ]
  },
  {
   "cell_type": "markdown",
   "metadata": {},
   "source": [
    " <img src=\"images/Anscombe.png\" width=\"700\" align=\"left\">\n"
   ]
  },
  {
   "cell_type": "markdown",
   "metadata": {},
   "source": [
    "#### Hint: Visualize before Analyze"
   ]
  },
  {
   "cell_type": "markdown",
   "metadata": {},
   "source": [
    "## One Variable: Distribution and Simple Plots"
   ]
  },
  {
   "cell_type": "markdown",
   "metadata": {},
   "source": []
  },
  {
   "cell_type": "markdown",
   "metadata": {},
   "source": [
    "#### Mutiple ways to visualize a single variable\n",
    "\n",
    "<ul>\n",
    " <li>Plot(variable)</li>\n",
    " <li>Hist(variable)</li>\n",
    " <li>Plot(density(variable))</li>\n",
    " <li>Rug Plot - provides distribution of variable along x and y axis - rug()</li>\n",
    "</ul>"
   ]
  },
  {
   "cell_type": "markdown",
   "metadata": {},
   "source": [
    "#### Function to adjust size of charts"
   ]
  },
  {
   "cell_type": "code",
   "execution_count": 58,
   "metadata": {},
   "outputs": [],
   "source": [
    "#function to adjust size of plots\n",
    "set_plot_dimensions <- function(width_choice, height_choice) {\n",
    "        options(repr.plot.width=width_choice, repr.plot.height=height_choice)\n",
    "        }\n",
    "#when you want to change you have to call it #set_plot_dimensions(6, 7)\n",
    "\n",
    "#reset to factory\n",
    "windows.options(reset=TRUE)"
   ]
  },
  {
   "cell_type": "markdown",
   "metadata": {},
   "source": [
    "#### Creating one variable with many values"
   ]
  },
  {
   "cell_type": "code",
   "execution_count": 59,
   "metadata": {},
   "outputs": [
    {
     "data": {
      "text/html": [
       "<ol class=list-inline>\n",
       "\t<li>46.581247379072</li>\n",
       "\t<li>27.8047846164554</li>\n",
       "\t<li>76.902343868278</li>\n",
       "\t<li>57.5177015736699</li>\n",
       "\t<li>94.9196105124429</li>\n",
       "\t<li>57.7789613744244</li>\n",
       "\t<li>77.1528949495405</li>\n",
       "\t<li>95.6610918976367</li>\n",
       "\t<li>72.7566397283226</li>\n",
       "\t<li>61.0266664065421</li>\n",
       "</ol>\n"
      ],
      "text/latex": [
       "\\begin{enumerate*}\n",
       "\\item 46.581247379072\n",
       "\\item 27.8047846164554\n",
       "\\item 76.902343868278\n",
       "\\item 57.5177015736699\n",
       "\\item 94.9196105124429\n",
       "\\item 57.7789613744244\n",
       "\\item 77.1528949495405\n",
       "\\item 95.6610918976367\n",
       "\\item 72.7566397283226\n",
       "\\item 61.0266664065421\n",
       "\\end{enumerate*}\n"
      ],
      "text/markdown": [
       "1. 46.581247379072\n",
       "2. 27.8047846164554\n",
       "3. 76.902343868278\n",
       "4. 57.5177015736699\n",
       "5. 94.9196105124429\n",
       "6. 57.7789613744244\n",
       "7. 77.1528949495405\n",
       "8. 95.6610918976367\n",
       "9. 72.7566397283226\n",
       "10. 61.0266664065421\n",
       "\n",
       "\n"
      ],
      "text/plain": [
       " [1] 46.58125 27.80478 76.90234 57.51770 94.91961 57.77896 77.15289 95.66109\n",
       " [9] 72.75664 61.02667"
      ]
     },
     "metadata": {},
     "output_type": "display_data"
    },
    {
     "data": {
      "text/plain": [
       "   Min. 1st Qu.  Median    Mean 3rd Qu.    Max. \n",
       " 0.6043 24.8260 48.2883 49.8257 75.1459 98.7773 "
      ]
     },
     "metadata": {},
     "output_type": "display_data"
    }
   ],
   "source": [
    "#creating random uniform values from 0 to 100\n",
    "random_vector = runif(200, min= 0, max = 100)\n",
    "#print first 10 values\n",
    "head(random_vector,10)\n",
    "#show some statistical properties\n",
    "summary(random_vector)"
   ]
  },
  {
   "cell_type": "markdown",
   "metadata": {},
   "source": [
    "#### Ploting the Variable"
   ]
  },
  {
   "cell_type": "code",
   "execution_count": 262,
   "metadata": {},
   "outputs": [
    {
     "data": {
      "image/png": "[encoded data removed]",
      "text/plain": [
       "Plot with title \"Box and Whiskers Plot\""
      ]
     },
     "metadata": {},
     "output_type": "display_data"
    }
   ],
   "source": [
    "#different plots for the same variable\n",
    "set_plot_dimensions(6,5)\n",
    "#use par to plot n charts with a \"rows vs columns\" logic\n",
    "par(mfrow=c(2,3))\n",
    "plot((random_vector),main = \"Plot Chart - as a scatter\")\n",
    "hist((random_vector),main = \"Histogram\")\n",
    "#Density Plots: Good to see Shape of the distribution, it has a big tail? Is it normally dist.? Are there Outliers?\n",
    "#density plot normalize the data somehow when using two variables to compare them\n",
    "plot(density(random_vector), main = \"Density Plot\")\n",
    "#log transf is good when you have skewed data\n",
    "plot(density(log10(random_vector)), main = \"Density Plot with Log Transf\")\n",
    "boxplot((random_vector), main = \"Box and Whiskers Plot\")"
   ]
  },
  {
   "cell_type": "markdown",
   "metadata": {},
   "source": [
    "<h4 align=\"Left\"> Examples of Data Distributions </h4>\n",
    "<img src=\"images/R_EMC_Big_Data/data_distribution.png\" width=\"450\" align=\"Left\">"
   ]
  },
  {
   "cell_type": "markdown",
   "metadata": {},
   "source": [
    "## Two Variables: Analyzing Relationships"
   ]
  },
  {
   "cell_type": "markdown",
   "metadata": {},
   "source": [
    "### Loading Cars Dataset from a file"
   ]
  },
  {
   "cell_type": "code",
   "execution_count": 258,
   "metadata": {
    "scrolled": true
   },
   "outputs": [
    {
     "data": {
      "text/html": [
       "<table>\n",
       "<thead><tr><th scope=col>X</th><th scope=col>mpg</th><th scope=col>cyl</th><th scope=col>disp</th><th scope=col>hp</th><th scope=col>drat</th><th scope=col>wt</th><th scope=col>qsec</th><th scope=col>vs</th><th scope=col>am</th><th scope=col>gear</th><th scope=col>carb</th></tr></thead>\n",
       "<tbody>\n",
       "\t<tr><td>Mazda RX4        </td><td>21.0             </td><td>6                </td><td>160              </td><td>110              </td><td>3.90             </td><td>2.620            </td><td>16.46            </td><td>0                </td><td>1                </td><td>4                </td><td>4                </td></tr>\n",
       "\t<tr><td>Mazda RX4 Wag    </td><td>21.0             </td><td>6                </td><td>160              </td><td>110              </td><td>3.90             </td><td>2.875            </td><td>17.02            </td><td>0                </td><td>1                </td><td>4                </td><td>4                </td></tr>\n",
       "\t<tr><td>Datsun 710       </td><td>22.8             </td><td>4                </td><td>108              </td><td> 93              </td><td>3.85             </td><td>2.320            </td><td>18.61            </td><td>1                </td><td>1                </td><td>4                </td><td>1                </td></tr>\n",
       "\t<tr><td>Hornet 4 Drive   </td><td>21.4             </td><td>6                </td><td>258              </td><td>110              </td><td>3.08             </td><td>3.215            </td><td>19.44            </td><td>1                </td><td>0                </td><td>3                </td><td>1                </td></tr>\n",
       "\t<tr><td>Hornet Sportabout</td><td>18.7             </td><td>8                </td><td>360              </td><td>175              </td><td>3.15             </td><td>3.440            </td><td>17.02            </td><td>0                </td><td>0                </td><td>3                </td><td>2                </td></tr>\n",
       "</tbody>\n",
       "</table>\n"
      ],
      "text/latex": [
       "\\begin{tabular}{r|llllllllllll}\n",
       " X & mpg & cyl & disp & hp & drat & wt & qsec & vs & am & gear & carb\\\\\n",
       "\\hline\n",
       "\t Mazda RX4         & 21.0              & 6                 & 160               & 110               & 3.90              & 2.620             & 16.46             & 0                 & 1                 & 4                 & 4                \\\\\n",
       "\t Mazda RX4 Wag     & 21.0              & 6                 & 160               & 110               & 3.90              & 2.875             & 17.02             & 0                 & 1                 & 4                 & 4                \\\\\n",
       "\t Datsun 710        & 22.8              & 4                 & 108               &  93               & 3.85              & 2.320             & 18.61             & 1                 & 1                 & 4                 & 1                \\\\\n",
       "\t Hornet 4 Drive    & 21.4              & 6                 & 258               & 110               & 3.08              & 3.215             & 19.44             & 1                 & 0                 & 3                 & 1                \\\\\n",
       "\t Hornet Sportabout & 18.7              & 8                 & 360               & 175               & 3.15              & 3.440             & 17.02             & 0                 & 0                 & 3                 & 2                \\\\\n",
       "\\end{tabular}\n"
      ],
      "text/markdown": [
       "\n",
       "| X | mpg | cyl | disp | hp | drat | wt | qsec | vs | am | gear | carb |\n",
       "|---|---|---|---|---|---|---|---|---|---|---|---|\n",
       "| Mazda RX4         | 21.0              | 6                 | 160               | 110               | 3.90              | 2.620             | 16.46             | 0                 | 1                 | 4                 | 4                 |\n",
       "| Mazda RX4 Wag     | 21.0              | 6                 | 160               | 110               | 3.90              | 2.875             | 17.02             | 0                 | 1                 | 4                 | 4                 |\n",
       "| Datsun 710        | 22.8              | 4                 | 108               |  93               | 3.85              | 2.320             | 18.61             | 1                 | 1                 | 4                 | 1                 |\n",
       "| Hornet 4 Drive    | 21.4              | 6                 | 258               | 110               | 3.08              | 3.215             | 19.44             | 1                 | 0                 | 3                 | 1                 |\n",
       "| Hornet Sportabout | 18.7              | 8                 | 360               | 175               | 3.15              | 3.440             | 17.02             | 0                 | 0                 | 3                 | 2                 |\n",
       "\n"
      ],
      "text/plain": [
       "  X                 mpg  cyl disp hp  drat wt    qsec  vs am gear carb\n",
       "1 Mazda RX4         21.0 6   160  110 3.90 2.620 16.46 0  1  4    4   \n",
       "2 Mazda RX4 Wag     21.0 6   160  110 3.90 2.875 17.02 0  1  4    4   \n",
       "3 Datsun 710        22.8 4   108   93 3.85 2.320 18.61 1  1  4    1   \n",
       "4 Hornet 4 Drive    21.4 6   258  110 3.08 3.215 19.44 1  0  3    1   \n",
       "5 Hornet Sportabout 18.7 8   360  175 3.15 3.440 17.02 0  0  3    2   "
      ]
     },
     "metadata": {},
     "output_type": "display_data"
    }
   ],
   "source": [
    "cars <- read.csv(\"mtcars.csv\", header=TRUE, sep=\",\")\n",
    "#Taking a look at the Data\n",
    "head(cars,5)"
   ]
  },
  {
   "cell_type": "markdown",
   "metadata": {},
   "source": [
    "### Building Two Boxplot and Whiskers Charts"
   ]
  },
  {
   "cell_type": "markdown",
   "metadata": {},
   "source": [
    "#### We'll Plot the column gear (x-axis) vs the column horse power (y-axis), from the cars dataset"
   ]
  },
  {
   "cell_type": "code",
   "execution_count": 269,
   "metadata": {
    "scrolled": true
   },
   "outputs": [
    {
     "data": {
      "image/png": "[encoded data removed]",
      "text/plain": [
       "plot without title"
      ]
     },
     "metadata": {},
     "output_type": "display_data"
    }
   ],
   "source": [
    "#installing and loading needed packages\n",
    "#take the \"#\" out of next 3 below lines if you never installed these packages, they're needed\n",
    "#install.packages(\"ggplot2\")\n",
    "#install.packages(\"grid\")\n",
    "#install.packages(\"gridExtra\")\n",
    "library(ggplot2) \n",
    "library(grid)\n",
    "library(gridExtra)\n",
    "#adjusting size of chart\n",
    "options(repr.plot.width=8, repr.plot.height=2.5)\n",
    "\n",
    "#should convert field to factor to be able to display different values in X\n",
    "cars$gear <- as.factor(cars$gear)\n",
    "#in the gem_boxplot you add the boxplot itself - alpha is color of boxplots \n",
    "#geom_point are the colorful points,\n",
    "#you can add \"\", position=\"jitter\"\" after alpha = 1, to make the colorful ploints sparse to print\n",
    "# the outlier.size=0 prevents the boxplot from plotting the outlier \n",
    "#creating plot 1 and plot 2 and storing in different variables\n",
    "#ggplot is the data, geom_boxplot is the boxplot, geom_point is the colorful points\n",
    "p1 <- ggplot(cars, aes(x=cars$gear, y=cars$hp)) + geom_boxplot(outlier.size=0, alpha=.2)+ geom_point(aes(colour=cars$gear), alpha=1)\n",
    "p2 <- ggplot(cars, aes(x=cars$gear, y=cars$hp)) + geom_boxplot(outlier.size=0, alpha=.2)+ geom_point(aes(colour=cars$gear), alpha=1, position=\"jitter\")\n",
    "#adding title and x and y labels to p1 and p2\n",
    "p1 <- p1 + ggtitle(\"Box-Whisker Plots without 'jitter'\") + xlab(\"# of Gears\") + ylab(\"Horse Power\")\n",
    "p2 <- p2 + ggtitle(\"Box-Whisker Plot with position='jitter'\") + xlab(\"# of Gears\") + ylab(\"Horse Power\")\n",
    "#print 2 charts in just one line, similar to \"par()\"\n",
    "grid.arrange(p1, p2, nrow = 1)                                                                                                                                                                    \n"
   ]
  },
  {
   "cell_type": "markdown",
   "metadata": {},
   "source": [
    "### Scatter Chart and Linear Regression Line with plot()"
   ]
  },
  {
   "cell_type": "code",
   "execution_count": 397,
   "metadata": {},
   "outputs": [
    {
     "data": {
      "image/png": "[encoded data removed]",
      "text/plain": [
       "Plot with title \"Scatterplot Example\""
      ]
     },
     "metadata": {},
     "output_type": "display_data"
    }
   ],
   "source": [
    "#using cars dataset again in \"cars variable\"\n",
    "#pch is the type of marker\n",
    "#since we're using qplot we'll reset the size of the charts:\n",
    "windows.options(reset=TRUE)\n",
    "#and set another size:\n",
    "set_plot_dimensions(5,3.5)\n",
    "plot(cars$wt, cars$mpg, main = \"Scatterplot Example\",xlab=\"Car Weight\", ylab=\"Miles Per Gallon\", pch=19) \n",
    "#regression line\n",
    "#lm is the linear model function, and abline adds straight lines to the plot\n",
    "abline(lm(cars$mpg~cars$wt), col=\"red\")  \n",
    "#lowess Smoothing Line (Some sort of weighting to unlock trends)\n",
    "lines(lowess(cars$wt,cars$mpg), col=\"blue\")\n"
   ]
  },
  {
   "cell_type": "markdown",
   "metadata": {},
   "source": [
    "### Scatter Chart and Linear Regression Line with ggplot"
   ]
  },
  {
   "cell_type": "code",
   "execution_count": 405,
   "metadata": {},
   "outputs": [
    {
     "data": {
      "image/png": "[encoded data removed]",
      "text/plain": [
       "plot without title"
      ]
     },
     "metadata": {},
     "output_type": "display_data"
    }
   ],
   "source": [
    "# GGPLOT: Basic scatter plot with title and labels\n",
    "# Change the point size, and shape with size and shape, if blank use default\n",
    "ggplot(cars, aes(x=cars$wt, y=cars$mpg)) + geom_point(size=1, shape=22) + \n",
    "ggtitle(\"Scatter Chart with Regression Line\") + ylab(\"Milles Per Gallon\") + xlab(\"WT\")"
   ]
  },
  {
   "cell_type": "markdown",
   "metadata": {},
   "source": [
    "### Pairs-Chart"
   ]
  },
  {
   "cell_type": "code",
   "execution_count": 399,
   "metadata": {},
   "outputs": [
    {
     "data": {
      "image/png": "[encoded data removed]",
      "text/plain": [
       "plot without title"
      ]
     },
     "metadata": {},
     "output_type": "display_data"
    }
   ],
   "source": [
    "#subset of cars dataset for this exercise:\n",
    "columns = c(\"mpg\", \"cyl\", \"disp\", \"hp\")\n",
    "\n",
    "pairs(cars[columns], main = \"Pair Chart from 'mtcars' dataset\", pch = 21, bg = c(\"blue\"))"
   ]
  },
  {
   "cell_type": "code",
   "execution_count": null,
   "metadata": {},
   "outputs": [],
   "source": []
  }
 ],
 "metadata": {
  "kernelspec": {
   "display_name": "R",
   "language": "R",
   "name": "ir"
  },
  "language_info": {
   "codemirror_mode": "r",
   "file_extension": ".r",
   "mimetype": "text/x-r-source",
   "name": "R",
   "pygments_lexer": "r",
   "version": "3.6.1"
  }
 },
 "nbformat": 4,
 "nbformat_minor": 2
}
