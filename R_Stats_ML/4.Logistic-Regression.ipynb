{
 "cells": [
  {
   "cell_type": "markdown",
   "metadata": {},
   "source": [
    "# Logistic Regression"
   ]
  },
  {
   "cell_type": "markdown",
   "metadata": {},
   "source": [
    "This exercise comes from Dell's EMC Associate Data Analytics Certification "
   ]
  },
  {
   "cell_type": "markdown",
   "metadata": {},
   "source": [
    "##### We'll be Analysing Telecommunications Churn Data, with that we'll build a Logistic Regression Model and test it's accuracy to predict if a customer is going to churn or not based in historical data"
   ]
  },
  {
   "cell_type": "markdown",
   "metadata": {},
   "source": [
    "### 1. Reading the Data and it's labels (Churn or Not)"
   ]
  },
  {
   "cell_type": "code",
   "execution_count": 4,
   "metadata": {},
   "outputs": [],
   "source": [
    "# Storing it into a pandas dataframe\n",
    "data <- read.csv(\"datasets/Telco-Customer-Churn.csv\")"
   ]
  },
  {
   "cell_type": "code",
   "execution_count": 5,
   "metadata": {},
   "outputs": [
    {
     "data": {
      "text/html": [
       "<table>\n",
       "<caption>A data.frame: 6 × 19</caption>\n",
       "<thead>\n",
       "\t<tr><th></th><th scope=col>SeniorCitizen</th><th scope=col>Partner</th><th scope=col>Dependents</th><th scope=col>PhoneService</th><th scope=col>MultipleLines</th><th scope=col>InternetService</th><th scope=col>OnlineSecurity</th><th scope=col>OnlineBackup</th><th scope=col>DeviceProtection</th><th scope=col>TechSupport</th><th scope=col>StreamingTV</th><th scope=col>StreamingMovies</th><th scope=col>Contract</th><th scope=col>PaperlessBilling</th><th scope=col>PaymentMethod</th><th scope=col>MonthlyCharges</th><th scope=col>TotalCharges</th><th scope=col>Churn</th><th scope=col>tenure_interval</th></tr>\n",
       "\t<tr><th></th><th scope=col>&lt;int&gt;</th><th scope=col>&lt;fct&gt;</th><th scope=col>&lt;fct&gt;</th><th scope=col>&lt;fct&gt;</th><th scope=col>&lt;fct&gt;</th><th scope=col>&lt;fct&gt;</th><th scope=col>&lt;fct&gt;</th><th scope=col>&lt;fct&gt;</th><th scope=col>&lt;fct&gt;</th><th scope=col>&lt;fct&gt;</th><th scope=col>&lt;fct&gt;</th><th scope=col>&lt;fct&gt;</th><th scope=col>&lt;fct&gt;</th><th scope=col>&lt;fct&gt;</th><th scope=col>&lt;fct&gt;</th><th scope=col>&lt;dbl&gt;</th><th scope=col>&lt;dbl&gt;</th><th scope=col>&lt;fct&gt;</th><th scope=col>&lt;fct&gt;</th></tr>\n",
       "</thead>\n",
       "<tbody>\n",
       "\t<tr><th scope=row>1</th><td>0</td><td>Yes</td><td>No</td><td>No </td><td>No phone service</td><td>DSL        </td><td>No </td><td>Yes</td><td>No </td><td>No </td><td>No </td><td>No </td><td>Month-to-month</td><td>Yes</td><td>Electronic check         </td><td>29.85</td><td>  29.85</td><td>No </td><td>0-6 Month  </td></tr>\n",
       "\t<tr><th scope=row>2</th><td>0</td><td>No </td><td>No</td><td>Yes</td><td>No              </td><td>DSL        </td><td>Yes</td><td>No </td><td>Yes</td><td>No </td><td>No </td><td>No </td><td>One year      </td><td>No </td><td>Mailed check             </td><td>56.95</td><td>1889.50</td><td>No </td><td>24-36 Month</td></tr>\n",
       "\t<tr><th scope=row>3</th><td>0</td><td>No </td><td>No</td><td>Yes</td><td>No              </td><td>DSL        </td><td>Yes</td><td>Yes</td><td>No </td><td>No </td><td>No </td><td>No </td><td>Month-to-month</td><td>Yes</td><td>Mailed check             </td><td>53.85</td><td> 108.15</td><td>Yes</td><td>0-6 Month  </td></tr>\n",
       "\t<tr><th scope=row>4</th><td>0</td><td>No </td><td>No</td><td>No </td><td>No phone service</td><td>DSL        </td><td>Yes</td><td>No </td><td>Yes</td><td>Yes</td><td>No </td><td>No </td><td>One year      </td><td>No </td><td>Bank transfer (automatic)</td><td>42.30</td><td>1840.75</td><td>No </td><td>36-48 Month</td></tr>\n",
       "\t<tr><th scope=row>5</th><td>0</td><td>No </td><td>No</td><td>Yes</td><td>No              </td><td>Fiber optic</td><td>No </td><td>No </td><td>No </td><td>No </td><td>No </td><td>No </td><td>Month-to-month</td><td>Yes</td><td>Electronic check         </td><td>70.70</td><td> 151.65</td><td>Yes</td><td>0-6 Month  </td></tr>\n",
       "\t<tr><th scope=row>6</th><td>0</td><td>No </td><td>No</td><td>Yes</td><td>Yes             </td><td>Fiber optic</td><td>No </td><td>No </td><td>Yes</td><td>No </td><td>Yes</td><td>Yes</td><td>Month-to-month</td><td>Yes</td><td>Electronic check         </td><td>99.65</td><td> 820.50</td><td>Yes</td><td>6-12 Month </td></tr>\n",
       "</tbody>\n",
       "</table>\n"
      ],
      "text/latex": [
       "A data.frame: 6 × 19\n",
       "\\begin{tabular}{r|lllllllllllllllllll}\n",
       "  & SeniorCitizen & Partner & Dependents & PhoneService & MultipleLines & InternetService & OnlineSecurity & OnlineBackup & DeviceProtection & TechSupport & StreamingTV & StreamingMovies & Contract & PaperlessBilling & PaymentMethod & MonthlyCharges & TotalCharges & Churn & tenure\\_interval\\\\\n",
       "  & <int> & <fct> & <fct> & <fct> & <fct> & <fct> & <fct> & <fct> & <fct> & <fct> & <fct> & <fct> & <fct> & <fct> & <fct> & <dbl> & <dbl> & <fct> & <fct>\\\\\n",
       "\\hline\n",
       "\t1 & 0 & Yes & No & No  & No phone service & DSL         & No  & Yes & No  & No  & No  & No  & Month-to-month & Yes & Electronic check          & 29.85 &   29.85 & No  & 0-6 Month  \\\\\n",
       "\t2 & 0 & No  & No & Yes & No               & DSL         & Yes & No  & Yes & No  & No  & No  & One year       & No  & Mailed check              & 56.95 & 1889.50 & No  & 24-36 Month\\\\\n",
       "\t3 & 0 & No  & No & Yes & No               & DSL         & Yes & Yes & No  & No  & No  & No  & Month-to-month & Yes & Mailed check              & 53.85 &  108.15 & Yes & 0-6 Month  \\\\\n",
       "\t4 & 0 & No  & No & No  & No phone service & DSL         & Yes & No  & Yes & Yes & No  & No  & One year       & No  & Bank transfer (automatic) & 42.30 & 1840.75 & No  & 36-48 Month\\\\\n",
       "\t5 & 0 & No  & No & Yes & No               & Fiber optic & No  & No  & No  & No  & No  & No  & Month-to-month & Yes & Electronic check          & 70.70 &  151.65 & Yes & 0-6 Month  \\\\\n",
       "\t6 & 0 & No  & No & Yes & Yes              & Fiber optic & No  & No  & Yes & No  & Yes & Yes & Month-to-month & Yes & Electronic check          & 99.65 &  820.50 & Yes & 6-12 Month \\\\\n",
       "\\end{tabular}\n"
      ],
      "text/markdown": [
       "\n",
       "A data.frame: 6 × 19\n",
       "\n",
       "| <!--/--> | SeniorCitizen &lt;int&gt; | Partner &lt;fct&gt; | Dependents &lt;fct&gt; | PhoneService &lt;fct&gt; | MultipleLines &lt;fct&gt; | InternetService &lt;fct&gt; | OnlineSecurity &lt;fct&gt; | OnlineBackup &lt;fct&gt; | DeviceProtection &lt;fct&gt; | TechSupport &lt;fct&gt; | StreamingTV &lt;fct&gt; | StreamingMovies &lt;fct&gt; | Contract &lt;fct&gt; | PaperlessBilling &lt;fct&gt; | PaymentMethod &lt;fct&gt; | MonthlyCharges &lt;dbl&gt; | TotalCharges &lt;dbl&gt; | Churn &lt;fct&gt; | tenure_interval &lt;fct&gt; |\n",
       "|---|---|---|---|---|---|---|---|---|---|---|---|---|---|---|---|---|---|---|---|\n",
       "| 1 | 0 | Yes | No | No  | No phone service | DSL         | No  | Yes | No  | No  | No  | No  | Month-to-month | Yes | Electronic check          | 29.85 |   29.85 | No  | 0-6 Month   |\n",
       "| 2 | 0 | No  | No | Yes | No               | DSL         | Yes | No  | Yes | No  | No  | No  | One year       | No  | Mailed check              | 56.95 | 1889.50 | No  | 24-36 Month |\n",
       "| 3 | 0 | No  | No | Yes | No               | DSL         | Yes | Yes | No  | No  | No  | No  | Month-to-month | Yes | Mailed check              | 53.85 |  108.15 | Yes | 0-6 Month   |\n",
       "| 4 | 0 | No  | No | No  | No phone service | DSL         | Yes | No  | Yes | Yes | No  | No  | One year       | No  | Bank transfer (automatic) | 42.30 | 1840.75 | No  | 36-48 Month |\n",
       "| 5 | 0 | No  | No | Yes | No               | Fiber optic | No  | No  | No  | No  | No  | No  | Month-to-month | Yes | Electronic check          | 70.70 |  151.65 | Yes | 0-6 Month   |\n",
       "| 6 | 0 | No  | No | Yes | Yes              | Fiber optic | No  | No  | Yes | No  | Yes | Yes | Month-to-month | Yes | Electronic check          | 99.65 |  820.50 | Yes | 6-12 Month  |\n",
       "\n"
      ],
      "text/plain": [
       "  SeniorCitizen Partner Dependents PhoneService MultipleLines   \n",
       "1 0             Yes     No         No           No phone service\n",
       "2 0             No      No         Yes          No              \n",
       "3 0             No      No         Yes          No              \n",
       "4 0             No      No         No           No phone service\n",
       "5 0             No      No         Yes          No              \n",
       "6 0             No      No         Yes          Yes             \n",
       "  InternetService OnlineSecurity OnlineBackup DeviceProtection TechSupport\n",
       "1 DSL             No             Yes          No               No         \n",
       "2 DSL             Yes            No           Yes              No         \n",
       "3 DSL             Yes            Yes          No               No         \n",
       "4 DSL             Yes            No           Yes              Yes        \n",
       "5 Fiber optic     No             No           No               No         \n",
       "6 Fiber optic     No             No           Yes              No         \n",
       "  StreamingTV StreamingMovies Contract       PaperlessBilling\n",
       "1 No          No              Month-to-month Yes             \n",
       "2 No          No              One year       No              \n",
       "3 No          No              Month-to-month Yes             \n",
       "4 No          No              One year       No              \n",
       "5 No          No              Month-to-month Yes             \n",
       "6 Yes         Yes             Month-to-month Yes             \n",
       "  PaymentMethod             MonthlyCharges TotalCharges Churn tenure_interval\n",
       "1 Electronic check          29.85            29.85      No    0-6 Month      \n",
       "2 Mailed check              56.95          1889.50      No    24-36 Month    \n",
       "3 Mailed check              53.85           108.15      Yes   0-6 Month      \n",
       "4 Bank transfer (automatic) 42.30          1840.75      No    36-48 Month    \n",
       "5 Electronic check          70.70           151.65      Yes   0-6 Month      \n",
       "6 Electronic check          99.65           820.50      Yes   6-12 Month     "
      ]
     },
     "metadata": {},
     "output_type": "display_data"
    }
   ],
   "source": [
    "# Create Interval Tenure Variable\n",
    "group_tenure <- function(tenure){\n",
    "    if (tenure >= 0 && tenure <= 6){\n",
    "        return('0-6 Month')\n",
    "    }else if(tenure > 6 && tenure <= 12){\n",
    "        return('6-12 Month')\n",
    "    }else if (tenure > 12 && tenure <= 24){\n",
    "        return('12-24 Month')\n",
    "    }else if (tenure > 24 && tenure <=36){\n",
    "        return('24-36 Month')\n",
    "    }else if (tenure > 36 && tenure <=48){\n",
    "        return('36-48 Month')\n",
    "    }else if (tenure > 48 && tenure <= 62){\n",
    "        return('48-62 Month')\n",
    "    }else if (tenure > 62){\n",
    "        return('> 62 Month')\n",
    "    }\n",
    "}\n",
    "\n",
    "# apply group_tenure function on each row of dataframe\n",
    "data$tenure_interval <- sapply(data$tenure,group_tenure)\n",
    "data$tenure_interval <- as.factor(data$tenure_interval)\n",
    "\n",
    "\n",
    "#Deleting some columns\n",
    "col_keep = c(\"SeniorCitizen\",\"Partner\",\"Dependents\",\"PhoneService\",\"MultipleLines\",\"InternetService\",\n",
    "            \"OnlineSecurity\",\"OnlineBackup\",\"DeviceProtection\",\"TechSupport\",\"StreamingTV\",\"StreamingMovies\",\n",
    "            \"Contract\", \"PaperlessBilling\", \"PaymentMethod\",\"MonthlyCharges\",\"TotalCharges\",\"Churn\",\"tenure_interval\")\n",
    "data <- subset(data, select = col_keep)\n",
    "\n",
    "\n",
    "head(data)"
   ]
  },
  {
   "cell_type": "markdown",
   "metadata": {},
   "source": [
    "### 2. Explore Data"
   ]
  },
  {
   "cell_type": "code",
   "execution_count": 233,
   "metadata": {},
   "outputs": [
    {
     "data": {
      "text/plain": [
       " SeniorCitizen    Partner    Dependents PhoneService          MultipleLines \n",
       " Min.   :0.0000   No :3641   No :4933   No : 682     No              :3390  \n",
       " 1st Qu.:0.0000   Yes:3402   Yes:2110   Yes:6361     No phone service: 682  \n",
       " Median :0.0000                                      Yes             :2971  \n",
       " Mean   :0.1621                                                             \n",
       " 3rd Qu.:0.0000                                                             \n",
       " Max.   :1.0000                                                             \n",
       "                                                                            \n",
       "    InternetService             OnlineSecurity              OnlineBackup \n",
       " DSL        :2421   No                 :3498   No                 :3088  \n",
       " Fiber optic:3096   No internet service:1526   No internet service:1526  \n",
       " No         :1526   Yes                :2019   Yes                :2429  \n",
       "                                                                         \n",
       "                                                                         \n",
       "                                                                         \n",
       "                                                                         \n",
       "            DeviceProtection              TechSupport  \n",
       " No                 :3095    No                 :3473  \n",
       " No internet service:1526    No internet service:1526  \n",
       " Yes                :2422    Yes                :2044  \n",
       "                                                       \n",
       "                                                       \n",
       "                                                       \n",
       "                                                       \n",
       "              StreamingTV              StreamingMovies           Contract   \n",
       " No                 :2810   No                 :2785   Month-to-month:3875  \n",
       " No internet service:1526   No internet service:1526   One year      :1473  \n",
       " Yes                :2707   Yes                :2732   Two year      :1695  \n",
       "                                                                            \n",
       "                                                                            \n",
       "                                                                            \n",
       "                                                                            \n",
       " PaperlessBilling                   PaymentMethod  MonthlyCharges  \n",
       " No :2872         Bank transfer (automatic):1544   Min.   : 18.25  \n",
       " Yes:4171         Credit card (automatic)  :1522   1st Qu.: 35.50  \n",
       "                  Electronic check         :2365   Median : 70.35  \n",
       "                  Mailed check             :1612   Mean   : 64.76  \n",
       "                                                   3rd Qu.: 89.85  \n",
       "                                                   Max.   :118.75  \n",
       "                                                                   \n",
       "  TotalCharges    Churn         tenure_interval\n",
       " Min.   :  18.8   No :5174   > 62 Month :1261  \n",
       " 1st Qu.: 401.4   Yes:1869   0-6 Month  :1481  \n",
       " Median :1397.5              12-24 Month:1024  \n",
       " Mean   :2283.3              24-36 Month: 832  \n",
       " 3rd Qu.:3794.7              36-48 Month: 762  \n",
       " Max.   :8684.8              48-62 Month: 978  \n",
       " NA's   :11                  6-12 Month : 705  "
      ]
     },
     "metadata": {},
     "output_type": "display_data"
    }
   ],
   "source": [
    "summary(data)"
   ]
  },
  {
   "cell_type": "code",
   "execution_count": 234,
   "metadata": {},
   "outputs": [
    {
     "data": {
      "text/plain": [
       "\n",
       "  No  Yes \n",
       "5174 1869 "
      ]
     },
     "metadata": {},
     "output_type": "display_data"
    }
   ],
   "source": [
    "table(data$Churn)"
   ]
  },
  {
   "cell_type": "code",
   "execution_count": 235,
   "metadata": {},
   "outputs": [
    {
     "data": {
      "text/plain": [
       "                \n",
       "                   No  Yes\n",
       "  Month-to-month 2220 1655\n",
       "  One year       1307  166\n",
       "  Two year       1647   48"
      ]
     },
     "metadata": {},
     "output_type": "display_data"
    }
   ],
   "source": [
    "table(data$Contract, data$Churn)"
   ]
  },
  {
   "cell_type": "code",
   "execution_count": 236,
   "metadata": {},
   "outputs": [
    {
     "data": {
      "text/plain": [
       "             \n",
       "                No  Yes\n",
       "  > 62 Month  1181   80\n",
       "  0-6 Month    697  784\n",
       "  12-24 Month  730  294\n",
       "  24-36 Month  652  180\n",
       "  36-48 Month  617  145\n",
       "  48-62 Month  845  133\n",
       "  6-12 Month   452  253"
      ]
     },
     "metadata": {},
     "output_type": "display_data"
    }
   ],
   "source": [
    "table(data$tenure_interval, data$Churn)"
   ]
  },
  {
   "cell_type": "code",
   "execution_count": 237,
   "metadata": {},
   "outputs": [
    {
     "data": {
      "text/plain": [
       "             \n",
       "                No  Yes\n",
       "  DSL         1962  459\n",
       "  Fiber optic 1799 1297\n",
       "  No          1413  113"
      ]
     },
     "metadata": {},
     "output_type": "display_data"
    }
   ],
   "source": [
    "table(data$InternetService, data$Churn)"
   ]
  },
  {
   "cell_type": "code",
   "execution_count": 238,
   "metadata": {},
   "outputs": [
    {
     "data": {
      "text/html": [
       "TRUE"
      ],
      "text/latex": [
       "TRUE"
      ],
      "text/markdown": [
       "TRUE"
      ],
      "text/plain": [
       "[1] TRUE"
      ]
     },
     "metadata": {},
     "output_type": "display_data"
    }
   ],
   "source": [
    "# Are there missing values?\n",
    "any(is.na(data))"
   ]
  },
  {
   "cell_type": "code",
   "execution_count": 239,
   "metadata": {},
   "outputs": [
    {
     "data": {
      "text/html": [
       "7043"
      ],
      "text/latex": [
       "7043"
      ],
      "text/markdown": [
       "7043"
      ],
      "text/plain": [
       "[1] 7043"
      ]
     },
     "metadata": {},
     "output_type": "display_data"
    },
    {
     "data": {
      "text/html": [
       "7032"
      ],
      "text/latex": [
       "7032"
      ],
      "text/markdown": [
       "7032"
      ],
      "text/plain": [
       "[1] 7032"
      ]
     },
     "metadata": {},
     "output_type": "display_data"
    }
   ],
   "source": [
    "nrow(data) # of rows without cleaning NAs\n",
    "data_nona <- na.omit(data)\n",
    "nrow(data_nona) # of rows after cleaning NAs"
   ]
  },
  {
   "cell_type": "code",
   "execution_count": 240,
   "metadata": {},
   "outputs": [],
   "source": [
    "# Converting Variables into factors\n",
    "data_nona$MultipleLines <- as.factor(data_nona$MultipleLines)\n",
    "data_nona$OnlineSecurity <- as.factor(data_nona$OnlineSecurity)\n",
    "data_nona$OnlineBackup <- as.factor(data_nona$OnlineBackup)\n",
    "data_nona$DeviceProtection <- as.factor(data_nona$DeviceProtection)\n",
    "data_nona$TechSupport <- as.factor(data_nona$TechSupport)\n",
    "data_nona$StreamingTV <- as.factor(data_nona$StreamingTV)\n",
    "data_nona$StreamingMovies <- as.factor(data_nona$StreamingMovies)"
   ]
  },
  {
   "cell_type": "markdown",
   "metadata": {},
   "source": [
    "### 3. Splitting Datasets"
   ]
  },
  {
   "cell_type": "code",
   "execution_count": 241,
   "metadata": {},
   "outputs": [
    {
     "data": {
      "text/html": [
       "5274"
      ],
      "text/latex": [
       "5274"
      ],
      "text/markdown": [
       "5274"
      ],
      "text/plain": [
       "[1] 5274"
      ]
     },
     "metadata": {},
     "output_type": "display_data"
    },
    {
     "data": {
      "text/html": [
       "1758"
      ],
      "text/latex": [
       "1758"
      ],
      "text/markdown": [
       "1758"
      ],
      "text/plain": [
       "[1] 1758"
      ]
     },
     "metadata": {},
     "output_type": "display_data"
    }
   ],
   "source": [
    "#!install.packages(\"caTools\")\n",
    "library(caTools)\n",
    "sample <- sample.split(data_nona$Churn, SplitRatio=0.75)\n",
    "trainData <- subset(data_nona, sample == TRUE)\n",
    "testData <- subset(data_nona, sample == FALSE)\n",
    "nrow(trainData)\n",
    "nrow(testData)"
   ]
  },
  {
   "cell_type": "markdown",
   "metadata": {},
   "source": [
    "### 4.1 Building the baseline Model"
   ]
  },
  {
   "cell_type": "code",
   "execution_count": 242,
   "metadata": {},
   "outputs": [
    {
     "data": {
      "text/plain": [
       "\n",
       "Call:\n",
       "glm(formula = Churn ~ ., family = binomial(link = \"logit\"), data = trainData, \n",
       "    na.action = na.pass)\n",
       "\n",
       "Deviance Residuals: \n",
       "    Min       1Q   Median       3Q      Max  \n",
       "-2.1559  -0.6580  -0.2858   0.6146   3.1384  \n",
       "\n",
       "Coefficients: (7 not defined because of singularities)\n",
       "                                       Estimate Std. Error z value Pr(>|z|)    \n",
       "(Intercept)                          -3.134e-01  9.895e-01  -0.317  0.75142    \n",
       "SeniorCitizen                         1.776e-01  9.810e-02   1.810  0.07030 .  \n",
       "PartnerYes                            8.600e-02  9.081e-02   0.947  0.34361    \n",
       "DependentsYes                        -1.300e-01  1.041e-01  -1.249  0.21173    \n",
       "PhoneServiceYes                       7.424e-01  7.511e-01   0.988  0.32295    \n",
       "MultipleLinesNo phone service                NA         NA      NA       NA    \n",
       "MultipleLinesYes                      6.345e-01  2.066e-01   3.071  0.00213 ** \n",
       "InternetServiceFiber optic            2.581e+00  9.257e-01   2.788  0.00531 ** \n",
       "InternetServiceNo                    -2.425e+00  9.348e-01  -2.595  0.00947 ** \n",
       "OnlineSecurityNo internet service            NA         NA      NA       NA    \n",
       "OnlineSecurityYes                     3.945e-02  2.072e-01   0.190  0.84903    \n",
       "OnlineBackupNo internet service              NA         NA      NA       NA    \n",
       "OnlineBackupYes                       1.303e-01  2.039e-01   0.639  0.52263    \n",
       "DeviceProtectionNo internet service          NA         NA      NA       NA    \n",
       "DeviceProtectionYes                   3.122e-01  2.033e-01   1.536  0.12452    \n",
       "TechSupportNo internet service               NA         NA      NA       NA    \n",
       "TechSupportYes                        3.476e-02  2.092e-01   0.166  0.86801    \n",
       "StreamingTVNo internet service               NA         NA      NA       NA    \n",
       "StreamingTVYes                        9.295e-01  3.783e-01   2.457  0.01401 *  \n",
       "StreamingMoviesNo internet service           NA         NA      NA       NA    \n",
       "StreamingMoviesYes                    9.422e-01  3.788e-01   2.487  0.01287 *  \n",
       "ContractOne year                     -7.764e-01  1.268e-01  -6.123 9.18e-10 ***\n",
       "ContractTwo year                     -1.685e+00  2.084e-01  -8.086 6.18e-16 ***\n",
       "PaperlessBillingYes                   3.865e-01  8.748e-02   4.418 9.97e-06 ***\n",
       "PaymentMethodCredit card (automatic) -1.586e-01  1.296e-01  -1.224  0.22086    \n",
       "PaymentMethodElectronic check         1.326e-01  1.094e-01   1.212  0.22536    \n",
       "PaymentMethodMailed check            -1.462e-01  1.353e-01  -1.081  0.27970    \n",
       "MonthlyCharges                       -6.194e-02  3.679e-02  -1.684  0.09223 .  \n",
       "TotalCharges                         -6.411e-05  7.288e-05  -0.880  0.37905    \n",
       "tenure_interval0-6 Month              1.905e+00  4.285e-01   4.445 8.77e-06 ***\n",
       "tenure_interval12-24 Month            6.742e-01  3.782e-01   1.783  0.07462 .  \n",
       "tenure_interval24-36 Month            3.218e-01  3.246e-01   0.991  0.32163    \n",
       "tenure_interval36-48 Month            5.277e-01  2.718e-01   1.941  0.05222 .  \n",
       "tenure_interval48-62 Month            1.849e-01  2.147e-01   0.861  0.38908    \n",
       "tenure_interval6-12 Month             1.026e+00  4.173e-01   2.458  0.01397 *  \n",
       "---\n",
       "Signif. codes:  0 '***' 0.001 '**' 0.01 '*' 0.05 '.' 0.1 ' ' 1\n",
       "\n",
       "(Dispersion parameter for binomial family taken to be 1)\n",
       "\n",
       "    Null deviance: 6108.0  on 5273  degrees of freedom\n",
       "Residual deviance: 4308.5  on 5246  degrees of freedom\n",
       "AIC: 4364.5\n",
       "\n",
       "Number of Fisher Scoring iterations: 6\n"
      ]
     },
     "metadata": {},
     "output_type": "display_data"
    }
   ],
   "source": [
    "# Building Model with all variables\n",
    "mylogit <- glm(Churn ~ .,\n",
    "              data = trainData, family=binomial(link=\"logit\"),\n",
    "              na.action=na.pass)\n",
    "summary(mylogit)"
   ]
  },
  {
   "cell_type": "markdown",
   "metadata": {},
   "source": [
    "### 4.2 Variable Selection to handle lots of insignificant variables (there are too many)"
   ]
  },
  {
   "cell_type": "code",
   "execution_count": 243,
   "metadata": {},
   "outputs": [
    {
     "data": {
      "text/plain": [
       "\n",
       "Call:\n",
       "glm(formula = Churn ~ 1, family = binomial(link = \"logit\"), data = trainData)\n",
       "\n",
       "Deviance Residuals: \n",
       "    Min       1Q   Median       3Q      Max  \n",
       "-0.7862  -0.7862  -0.7862   1.6278   1.6278  \n",
       "\n",
       "Coefficients:\n",
       "            Estimate Std. Error z value Pr(>|z|)    \n",
       "(Intercept) -1.01587    0.03117  -32.59   <2e-16 ***\n",
       "---\n",
       "Signif. codes:  0 '***' 0.001 '**' 0.01 '*' 0.05 '.' 0.1 ' ' 1\n",
       "\n",
       "(Dispersion parameter for binomial family taken to be 1)\n",
       "\n",
       "    Null deviance: 6108  on 5273  degrees of freedom\n",
       "Residual deviance: 6108  on 5273  degrees of freedom\n",
       "AIC: 6110\n",
       "\n",
       "Number of Fisher Scoring iterations: 4\n"
      ]
     },
     "metadata": {},
     "output_type": "display_data"
    }
   ],
   "source": [
    "# NULL MODEL\n",
    "# variable selection using stepwise regression\n",
    "# the intercept model\n",
    "model.null = glm(Churn ~ 1,\n",
    "                data=trainData,\n",
    "                family = binomial(link=\"logit\"))\n",
    "summary(model.null)"
   ]
  },
  {
   "cell_type": "code",
   "execution_count": 244,
   "metadata": {
    "scrolled": false
   },
   "outputs": [
    {
     "data": {
      "text/plain": [
       "\n",
       "Call:\n",
       "glm(formula = Churn ~ ., family = binomial(link = \"logit\"), data = trainData)\n",
       "\n",
       "Deviance Residuals: \n",
       "    Min       1Q   Median       3Q      Max  \n",
       "-2.1559  -0.6580  -0.2858   0.6146   3.1384  \n",
       "\n",
       "Coefficients: (7 not defined because of singularities)\n",
       "                                       Estimate Std. Error z value Pr(>|z|)    \n",
       "(Intercept)                          -3.134e-01  9.895e-01  -0.317  0.75142    \n",
       "SeniorCitizen                         1.776e-01  9.810e-02   1.810  0.07030 .  \n",
       "PartnerYes                            8.600e-02  9.081e-02   0.947  0.34361    \n",
       "DependentsYes                        -1.300e-01  1.041e-01  -1.249  0.21173    \n",
       "PhoneServiceYes                       7.424e-01  7.511e-01   0.988  0.32295    \n",
       "MultipleLinesNo phone service                NA         NA      NA       NA    \n",
       "MultipleLinesYes                      6.345e-01  2.066e-01   3.071  0.00213 ** \n",
       "InternetServiceFiber optic            2.581e+00  9.257e-01   2.788  0.00531 ** \n",
       "InternetServiceNo                    -2.425e+00  9.348e-01  -2.595  0.00947 ** \n",
       "OnlineSecurityNo internet service            NA         NA      NA       NA    \n",
       "OnlineSecurityYes                     3.945e-02  2.072e-01   0.190  0.84903    \n",
       "OnlineBackupNo internet service              NA         NA      NA       NA    \n",
       "OnlineBackupYes                       1.303e-01  2.039e-01   0.639  0.52263    \n",
       "DeviceProtectionNo internet service          NA         NA      NA       NA    \n",
       "DeviceProtectionYes                   3.122e-01  2.033e-01   1.536  0.12452    \n",
       "TechSupportNo internet service               NA         NA      NA       NA    \n",
       "TechSupportYes                        3.476e-02  2.092e-01   0.166  0.86801    \n",
       "StreamingTVNo internet service               NA         NA      NA       NA    \n",
       "StreamingTVYes                        9.295e-01  3.783e-01   2.457  0.01401 *  \n",
       "StreamingMoviesNo internet service           NA         NA      NA       NA    \n",
       "StreamingMoviesYes                    9.422e-01  3.788e-01   2.487  0.01287 *  \n",
       "ContractOne year                     -7.764e-01  1.268e-01  -6.123 9.18e-10 ***\n",
       "ContractTwo year                     -1.685e+00  2.084e-01  -8.086 6.18e-16 ***\n",
       "PaperlessBillingYes                   3.865e-01  8.748e-02   4.418 9.97e-06 ***\n",
       "PaymentMethodCredit card (automatic) -1.586e-01  1.296e-01  -1.224  0.22086    \n",
       "PaymentMethodElectronic check         1.326e-01  1.094e-01   1.212  0.22536    \n",
       "PaymentMethodMailed check            -1.462e-01  1.353e-01  -1.081  0.27970    \n",
       "MonthlyCharges                       -6.194e-02  3.679e-02  -1.684  0.09223 .  \n",
       "TotalCharges                         -6.411e-05  7.288e-05  -0.880  0.37905    \n",
       "tenure_interval0-6 Month              1.905e+00  4.285e-01   4.445 8.77e-06 ***\n",
       "tenure_interval12-24 Month            6.742e-01  3.782e-01   1.783  0.07462 .  \n",
       "tenure_interval24-36 Month            3.218e-01  3.246e-01   0.991  0.32163    \n",
       "tenure_interval36-48 Month            5.277e-01  2.718e-01   1.941  0.05222 .  \n",
       "tenure_interval48-62 Month            1.849e-01  2.147e-01   0.861  0.38908    \n",
       "tenure_interval6-12 Month             1.026e+00  4.173e-01   2.458  0.01397 *  \n",
       "---\n",
       "Signif. codes:  0 '***' 0.001 '**' 0.01 '*' 0.05 '.' 0.1 ' ' 1\n",
       "\n",
       "(Dispersion parameter for binomial family taken to be 1)\n",
       "\n",
       "    Null deviance: 6108.0  on 5273  degrees of freedom\n",
       "Residual deviance: 4308.5  on 5246  degrees of freedom\n",
       "AIC: 4364.5\n",
       "\n",
       "Number of Fisher Scoring iterations: 6\n"
      ]
     },
     "metadata": {},
     "output_type": "display_data"
    }
   ],
   "source": [
    "# Model with all required attributes included\n",
    "# . in the formula only indicates the usage of all the available metrics\n",
    "model.full = glm(Churn ~ .,\n",
    "                data = trainData,\n",
    "                family = binomial(link=\"logit\"))\n",
    "summary(model.full)\n",
    "\n",
    "#Variable Selection:\n",
    "# Each iteration the AIC gets better (going low, )"
   ]
  },
  {
   "cell_type": "markdown",
   "metadata": {},
   "source": [
    "### Variable Selection"
   ]
  },
  {
   "cell_type": "code",
   "execution_count": 245,
   "metadata": {},
   "outputs": [
    {
     "name": "stdout",
     "output_type": "stream",
     "text": [
      "Start:  AIC=6110.02\n",
      "Churn ~ 1\n",
      "\n",
      "                   Df Deviance    AIC     LRT  Pr(>Chi)    \n",
      "+ Contract          2   5055.1 5061.1 1052.90 < 2.2e-16 ***\n",
      "+ tenure_interval   6   5370.8 5384.8  737.19 < 2.2e-16 ***\n",
      "+ OnlineSecurity    2   5421.1 5427.1  686.97 < 2.2e-16 ***\n",
      "+ TechSupport       2   5433.4 5439.4  674.60 < 2.2e-16 ***\n",
      "+ InternetService   2   5475.2 5481.2  632.83 < 2.2e-16 ***\n",
      "+ OnlineBackup      2   5580.7 5586.7  527.37 < 2.2e-16 ***\n",
      "+ DeviceProtection  2   5614.5 5620.5  493.55 < 2.2e-16 ***\n",
      "+ PaymentMethod     3   5657.2 5665.2  450.80 < 2.2e-16 ***\n",
      "+ StreamingMovies   2   5749.4 5755.4  358.63 < 2.2e-16 ***\n",
      "+ StreamingTV       2   5751.3 5757.3  356.71 < 2.2e-16 ***\n",
      "+ TotalCharges      1   5884.3 5888.3  223.74 < 2.2e-16 ***\n",
      "+ MonthlyCharges    1   5885.5 5889.5  222.52 < 2.2e-16 ***\n",
      "+ PaperlessBilling  1   5894.0 5898.0  213.99 < 2.2e-16 ***\n",
      "+ Dependents        1   5962.0 5966.0  146.04 < 2.2e-16 ***\n",
      "+ SeniorCitizen     1   5999.6 6003.6  108.38 < 2.2e-16 ***\n",
      "+ Partner           1   6002.0 6006.0  106.03 < 2.2e-16 ***\n",
      "+ MultipleLines     2   6098.4 6104.4    9.59  0.008276 ** \n",
      "<none>                  6108.0 6110.0                      \n",
      "+ PhoneService      1   6106.7 6110.7    1.29  0.256400    \n",
      "---\n",
      "Signif. codes:  0 '***' 0.001 '**' 0.01 '*' 0.05 '.' 0.1 ' ' 1\n",
      "\n",
      "Step:  AIC=5061.13\n",
      "Churn ~ Contract\n",
      "\n",
      "                   Df Deviance    AIC    LRT  Pr(>Chi)    \n",
      "+ InternetService   2   4720.5 4730.5 334.63 < 2.2e-16 ***\n",
      "+ OnlineSecurity    2   4801.6 4811.6 253.51 < 2.2e-16 ***\n",
      "+ MonthlyCharges    1   4830.1 4838.1 225.01 < 2.2e-16 ***\n",
      "+ TechSupport       2   4832.2 4842.2 222.89 < 2.2e-16 ***\n",
      "+ OnlineBackup      2   4849.1 4859.1 206.04 < 2.2e-16 ***\n",
      "+ StreamingTV       2   4853.8 4863.8 201.32 < 2.2e-16 ***\n",
      "+ StreamingMovies   2   4856.0 4866.0 199.17 < 2.2e-16 ***\n",
      "+ DeviceProtection  2   4877.0 4887.0 178.08 < 2.2e-16 ***\n",
      "+ PaymentMethod     3   4914.1 4926.1 141.01 < 2.2e-16 ***\n",
      "+ PaperlessBilling  1   4949.1 4957.1 106.07 < 2.2e-16 ***\n",
      "+ tenure_interval   6   4942.0 4960.0 113.10 < 2.2e-16 ***\n",
      "+ MultipleLines     2   5010.6 5020.6  44.49 2.178e-10 ***\n",
      "+ SeniorCitizen     1   5014.3 5022.3  40.80 1.684e-10 ***\n",
      "+ Dependents        1   5024.4 5032.4  30.70 3.015e-08 ***\n",
      "+ Partner           1   5051.9 5059.9   3.27   0.07046 .  \n",
      "<none>                  5055.1 5061.1                     \n",
      "+ PhoneService      1   5053.4 5061.4   1.73   0.18849    \n",
      "+ TotalCharges      1   5053.8 5061.8   1.28   0.25808    \n",
      "---\n",
      "Signif. codes:  0 '***' 0.001 '**' 0.01 '*' 0.05 '.' 0.1 ' ' 1\n",
      "\n",
      "Step:  AIC=4730.5\n",
      "Churn ~ Contract + InternetService\n",
      "\n",
      "                   Df Deviance    AIC     LRT  Pr(>Chi)    \n",
      "+ tenure_interval   6   4458.2 4480.2 262.347 < 2.2e-16 ***\n",
      "+ TotalCharges      1   4574.1 4586.1 146.363 < 2.2e-16 ***\n",
      "+ OnlineSecurity    1   4669.7 4681.7  50.845 9.995e-13 ***\n",
      "+ PaymentMethod     3   4673.9 4689.9  46.614 4.200e-10 ***\n",
      "+ OnlineBackup      1   4683.6 4695.6  36.933 1.223e-09 ***\n",
      "+ TechSupport       1   4693.7 4705.7  26.790 2.268e-07 ***\n",
      "+ PaperlessBilling  1   4698.2 4710.2  22.301 2.331e-06 ***\n",
      "+ Partner           1   4705.5 4717.5  14.995 0.0001078 ***\n",
      "+ MonthlyCharges    1   4705.8 4717.8  14.735 0.0001237 ***\n",
      "+ Dependents        1   4708.2 4720.2  12.344 0.0004423 ***\n",
      "+ PhoneService      1   4709.7 4721.7  10.791 0.0010200 ** \n",
      "+ MultipleLines     2   4709.5 4723.5  10.984 0.0041200 ** \n",
      "+ DeviceProtection  1   4713.9 4725.9   6.569 0.0103752 *  \n",
      "+ StreamingMovies   1   4715.1 4727.1   5.401 0.0201289 *  \n",
      "+ StreamingTV       1   4715.2 4727.2   5.266 0.0217451 *  \n",
      "+ SeniorCitizen     1   4716.5 4728.5   3.986 0.0458685 *  \n",
      "<none>                  4720.5 4730.5                      \n",
      "---\n",
      "Signif. codes:  0 '***' 0.001 '**' 0.01 '*' 0.05 '.' 0.1 ' ' 1\n",
      "\n",
      "Step:  AIC=4480.15\n",
      "Churn ~ Contract + InternetService + tenure_interval\n",
      "\n",
      "                   Df Deviance    AIC    LRT  Pr(>Chi)    \n",
      "+ PaperlessBilling  1   4424.5 4448.5 33.658 6.572e-09 ***\n",
      "+ MultipleLines     2   4424.0 4450.0 34.168 3.807e-08 ***\n",
      "+ StreamingMovies   1   4426.2 4450.2 31.987 1.552e-08 ***\n",
      "+ StreamingTV       1   4429.1 4453.1 29.022 7.156e-08 ***\n",
      "+ PaymentMethod     3   4431.5 4459.5 26.643 6.994e-06 ***\n",
      "+ OnlineSecurity    1   4437.5 4461.5 20.610 5.629e-06 ***\n",
      "+ PhoneService      1   4443.7 4467.7 14.493 0.0001407 ***\n",
      "+ SeniorCitizen     1   4446.0 4470.0 12.176 0.0004840 ***\n",
      "+ TechSupport       1   4447.4 4471.4 10.757 0.0010391 ** \n",
      "+ OnlineBackup      1   4453.3 4477.3  4.881 0.0271566 *  \n",
      "+ Dependents        1   4453.8 4477.8  4.325 0.0375474 *  \n",
      "+ MonthlyCharges    1   4455.7 4479.7  2.489 0.1146216    \n",
      "<none>                  4458.2 4480.2                     \n",
      "+ DeviceProtection  1   4457.2 4481.2  0.930 0.3347507    \n",
      "+ Partner           1   4457.8 4481.8  0.378 0.5387064    \n",
      "+ TotalCharges      1   4458.1 4482.1  0.005 0.9453316    \n",
      "---\n",
      "Signif. codes:  0 '***' 0.001 '**' 0.01 '*' 0.05 '.' 0.1 ' ' 1\n",
      "\n",
      "Step:  AIC=4448.49\n",
      "Churn ~ Contract + InternetService + tenure_interval + PaperlessBilling\n",
      "\n",
      "                   Df Deviance    AIC     LRT  Pr(>Chi)    \n",
      "+ MultipleLines     2   4393.8 4421.8 30.6537 2.206e-07 ***\n",
      "+ StreamingMovies   1   4396.3 4422.3 28.1649 1.114e-07 ***\n",
      "+ StreamingTV       1   4400.1 4426.1 24.3479 8.041e-07 ***\n",
      "+ PaymentMethod     3   4401.3 4431.3 23.1738 3.715e-05 ***\n",
      "+ OnlineSecurity    1   4407.7 4433.7 16.7777 4.203e-05 ***\n",
      "+ PhoneService      1   4410.3 4436.3 14.2357 0.0001613 ***\n",
      "+ TechSupport       1   4413.8 4439.8 10.7004 0.0010711 ** \n",
      "+ SeniorCitizen     1   4414.3 4440.3 10.1661 0.0014304 ** \n",
      "+ OnlineBackup      1   4418.8 4444.8  5.7114 0.0168552 *  \n",
      "+ Dependents        1   4420.9 4446.9  3.5832 0.0583683 .  \n",
      "<none>                  4424.5 4448.5                      \n",
      "+ MonthlyCharges    1   4423.0 4449.0  1.5301 0.2160975    \n",
      "+ DeviceProtection  1   4423.6 4449.6  0.8801 0.3481703    \n",
      "+ Partner           1   4424.1 4450.1  0.4137 0.5200789    \n",
      "+ TotalCharges      1   4424.5 4450.5  0.0071 0.9329369    \n",
      "---\n",
      "Signif. codes:  0 '***' 0.001 '**' 0.01 '*' 0.05 '.' 0.1 ' ' 1\n",
      "\n",
      "Step:  AIC=4421.84\n",
      "Churn ~ Contract + InternetService + tenure_interval + PaperlessBilling + \n",
      "    MultipleLines\n",
      "\n",
      "                   Df Deviance    AIC     LRT  Pr(>Chi)    \n",
      "+ StreamingMovies   1   4369.1 4399.1 24.7075 6.673e-07 ***\n",
      "+ StreamingTV       1   4372.2 4402.2 21.6114 3.339e-06 ***\n",
      "+ PaymentMethod     3   4373.8 4407.8 20.0768 0.0001636 ***\n",
      "+ OnlineSecurity    1   4379.3 4409.3 14.5415 0.0001371 ***\n",
      "+ TechSupport       1   4384.3 4414.3  9.5364 0.0020144 ** \n",
      "+ SeniorCitizen     1   4386.1 4416.1  7.7852 0.0052676 ** \n",
      "+ MonthlyCharges    1   4386.9 4416.9  6.9331 0.0084614 ** \n",
      "+ OnlineBackup      1   4387.7 4417.7  6.1649 0.0130313 *  \n",
      "+ Dependents        1   4391.0 4421.0  2.8205 0.0930685 .  \n",
      "<none>                  4393.8 4421.8                      \n",
      "+ DeviceProtection  1   4393.2 4423.2  0.6444 0.4221329    \n",
      "+ Partner           1   4393.5 4423.5  0.3452 0.5568705    \n",
      "+ TotalCharges      1   4393.8 4423.8  0.0125 0.9108140    \n",
      "---\n",
      "Signif. codes:  0 '***' 0.001 '**' 0.01 '*' 0.05 '.' 0.1 ' ' 1\n",
      "\n",
      "Step:  AIC=4399.13\n",
      "Churn ~ Contract + InternetService + tenure_interval + PaperlessBilling + \n",
      "    MultipleLines + StreamingMovies\n",
      "\n",
      "                   Df Deviance    AIC     LRT  Pr(>Chi)    \n",
      "+ OnlineSecurity    1   4356.1 4388.1 13.0055 0.0003106 ***\n",
      "+ PaymentMethod     3   4352.7 4388.7 16.4177 0.0009309 ***\n",
      "+ TechSupport       1   4357.1 4389.1 12.0250 0.0005249 ***\n",
      "+ StreamingTV       1   4359.1 4391.1 10.0318 0.0015386 ** \n",
      "+ SeniorCitizen     1   4362.3 4394.3  6.8500 0.0088641 ** \n",
      "+ OnlineBackup      1   4363.3 4395.3  5.8091 0.0159437 *  \n",
      "+ TotalCharges      1   4365.8 4397.8  3.3489 0.0672486 .  \n",
      "+ Dependents        1   4366.7 4398.7  2.3941 0.1217906    \n",
      "<none>                  4369.1 4399.1                      \n",
      "+ MonthlyCharges    1   4367.6 4399.6  1.5097 0.2191898    \n",
      "+ Partner           1   4368.7 4400.7  0.3894 0.5326015    \n",
      "+ DeviceProtection  1   4369.1 4401.1  0.0001 0.9941603    \n",
      "---\n",
      "Signif. codes:  0 '***' 0.001 '**' 0.01 '*' 0.05 '.' 0.1 ' ' 1\n",
      "\n",
      "Step:  AIC=4388.13\n",
      "Churn ~ Contract + InternetService + tenure_interval + PaperlessBilling + \n",
      "    MultipleLines + StreamingMovies + OnlineSecurity\n",
      "\n",
      "                   Df Deviance    AIC     LRT Pr(>Chi)   \n",
      "+ PaymentMethod     3   4341.8 4379.8 14.3662 0.002447 **\n",
      "+ TechSupport       1   4345.9 4379.9 10.2438 0.001371 **\n",
      "+ StreamingTV       1   4346.4 4380.4  9.7598 0.001784 **\n",
      "+ SeniorCitizen     1   4349.9 4383.9  6.2485 0.012430 * \n",
      "+ OnlineBackup      1   4350.9 4384.9  5.2324 0.022170 * \n",
      "+ Dependents        1   4354.1 4388.1  2.0013 0.157166   \n",
      "<none>                  4356.1 4388.1                    \n",
      "+ TotalCharges      1   4354.5 4388.5  1.5855 0.207971   \n",
      "+ Partner           1   4355.7 4389.7  0.4154 0.519260   \n",
      "+ MonthlyCharges    1   4356.1 4390.1  0.0002 0.989127   \n",
      "+ DeviceProtection  1   4356.1 4390.1  0.0001 0.990874   \n",
      "---\n",
      "Signif. codes:  0 '***' 0.001 '**' 0.01 '*' 0.05 '.' 0.1 ' ' 1\n",
      "\n",
      "Step:  AIC=4379.76\n",
      "Churn ~ Contract + InternetService + tenure_interval + PaperlessBilling + \n",
      "    MultipleLines + StreamingMovies + OnlineSecurity + PaymentMethod\n",
      "\n",
      "                   Df Deviance    AIC    LRT Pr(>Chi)   \n",
      "+ TechSupport       1   4333.0 4373.0 8.7647 0.003071 **\n",
      "+ StreamingTV       1   4333.3 4373.3 8.4301 0.003691 **\n",
      "+ SeniorCitizen     1   4336.6 4376.6 5.1465 0.023294 * \n",
      "+ OnlineBackup      1   4336.7 4376.7 5.0585 0.024505 * \n",
      "<none>                  4341.8 4379.8                   \n",
      "+ Dependents        1   4340.1 4380.1 1.7054 0.191579   \n",
      "+ TotalCharges      1   4340.7 4380.7 1.0950 0.295374   \n",
      "+ Partner           1   4341.5 4381.5 0.2822 0.595292   \n",
      "+ MonthlyCharges    1   4341.8 4381.8 0.0051 0.942902   \n",
      "+ DeviceProtection  1   4341.8 4381.8 0.0009 0.976677   \n",
      "---\n",
      "Signif. codes:  0 '***' 0.001 '**' 0.01 '*' 0.05 '.' 0.1 ' ' 1\n",
      "\n",
      "Step:  AIC=4372.99\n",
      "Churn ~ Contract + InternetService + tenure_interval + PaperlessBilling + \n",
      "    MultipleLines + StreamingMovies + OnlineSecurity + PaymentMethod + \n",
      "    TechSupport\n",
      "\n",
      "                   Df Deviance    AIC    LRT Pr(>Chi)   \n",
      "+ StreamingTV       1   4323.1 4365.1 9.9130 0.001641 **\n",
      "+ OnlineBackup      1   4328.3 4370.3 4.7135 0.029926 * \n",
      "+ SeniorCitizen     1   4328.9 4370.9 4.1183 0.042421 * \n",
      "<none>                  4333.0 4373.0                   \n",
      "+ MonthlyCharges    1   4331.3 4373.3 1.6545 0.198343   \n",
      "+ Dependents        1   4331.4 4373.4 1.5883 0.207570   \n",
      "+ Partner           1   4332.7 4374.7 0.3409 0.559282   \n",
      "+ TotalCharges      1   4332.7 4374.7 0.2711 0.602570   \n",
      "+ DeviceProtection  1   4333.0 4375.0 0.0420 0.837638   \n",
      "---\n",
      "Signif. codes:  0 '***' 0.001 '**' 0.01 '*' 0.05 '.' 0.1 ' ' 1\n",
      "\n",
      "Step:  AIC=4365.08\n",
      "Churn ~ Contract + InternetService + tenure_interval + PaperlessBilling + \n",
      "    MultipleLines + StreamingMovies + OnlineSecurity + PaymentMethod + \n",
      "    TechSupport + StreamingTV\n",
      "\n",
      "                   Df Deviance    AIC    LRT Pr(>Chi)  \n",
      "+ OnlineBackup      1   4318.3 4362.3 4.8189  0.02815 *\n",
      "+ MonthlyCharges    1   4318.6 4362.6 4.5124  0.03365 *\n",
      "+ SeniorCitizen     1   4318.8 4362.8 4.2844  0.03846 *\n",
      "<none>                  4323.1 4365.1                  \n",
      "+ TotalCharges      1   4321.4 4365.4 1.6898  0.19362  \n",
      "+ Dependents        1   4321.4 4365.4 1.6363  0.20083  \n",
      "+ Partner           1   4322.8 4366.8 0.2430  0.62206  \n",
      "+ DeviceProtection  1   4323.1 4367.1 0.0181  0.89289  \n",
      "---\n",
      "Signif. codes:  0 '***' 0.001 '**' 0.01 '*' 0.05 '.' 0.1 ' ' 1\n",
      "\n",
      "Step:  AIC=4362.26\n",
      "Churn ~ Contract + InternetService + tenure_interval + PaperlessBilling + \n",
      "    MultipleLines + StreamingMovies + OnlineSecurity + PaymentMethod + \n",
      "    TechSupport + StreamingTV + OnlineBackup\n",
      "\n",
      "                   Df Deviance    AIC    LRT Pr(>Chi)  \n",
      "+ SeniorCitizen     1   4314.0 4360.0 4.2824  0.03851 *\n",
      "<none>                  4318.3 4362.3                  \n",
      "+ Dependents        1   4316.7 4362.7 1.5747  0.20953  \n",
      "+ TotalCharges      1   4317.5 4363.5 0.7802  0.37707  \n",
      "+ MonthlyCharges    1   4317.6 4363.6 0.6979  0.40350  \n",
      "+ Partner           1   4318.0 4364.0 0.2721  0.60191  \n",
      "+ DeviceProtection  1   4318.3 4364.3 0.0036  0.95189  \n",
      "---\n",
      "Signif. codes:  0 '***' 0.001 '**' 0.01 '*' 0.05 '.' 0.1 ' ' 1\n",
      "\n",
      "Step:  AIC=4359.98\n",
      "Churn ~ Contract + InternetService + tenure_interval + PaperlessBilling + \n",
      "    MultipleLines + StreamingMovies + OnlineSecurity + PaymentMethod + \n",
      "    TechSupport + StreamingTV + OnlineBackup + SeniorCitizen\n",
      "\n",
      "                   Df Deviance    AIC     LRT Pr(>Chi)\n",
      "<none>                  4314.0 4360.0                 \n",
      "+ Dependents        1   4313.1 4361.1 0.87456   0.3497\n",
      "+ TotalCharges      1   4313.2 4361.2 0.82721   0.3631\n",
      "+ MonthlyCharges    1   4313.3 4361.3 0.68621   0.4075\n",
      "+ Partner           1   4313.8 4361.8 0.21005   0.6467\n",
      "+ DeviceProtection  1   4314.0 4362.0 0.00185   0.9657\n"
     ]
    },
    {
     "data": {
      "text/plain": [
       "\n",
       "Call:  glm(formula = Churn ~ Contract + InternetService + tenure_interval + \n",
       "    PaperlessBilling + MultipleLines + StreamingMovies + OnlineSecurity + \n",
       "    PaymentMethod + TechSupport + StreamingTV + OnlineBackup + \n",
       "    SeniorCitizen, family = binomial(link = \"logit\"), data = trainData)\n",
       "\n",
       "Coefficients:\n",
       "                         (Intercept)                      ContractOne year  \n",
       "                             -2.6556                               -0.7844  \n",
       "                    ContractTwo year            InternetServiceFiber optic  \n",
       "                             -1.6843                                1.0018  \n",
       "                   InternetServiceNo              tenure_interval0-6 Month  \n",
       "                             -0.8736                                2.2076  \n",
       "          tenure_interval12-24 Month            tenure_interval24-36 Month  \n",
       "                              0.9403                                0.5269  \n",
       "          tenure_interval36-48 Month            tenure_interval48-62 Month  \n",
       "                              0.6687                                0.2635  \n",
       "           tenure_interval6-12 Month                   PaperlessBillingYes  \n",
       "                              1.3194                                0.3925  \n",
       "       MultipleLinesNo phone service                      MultipleLinesYes  \n",
       "                              0.5320                                0.3098  \n",
       "  StreamingMoviesNo internet service                    StreamingMoviesYes  \n",
       "                                  NA                                0.3027  \n",
       "   OnlineSecurityNo internet service                     OnlineSecurityYes  \n",
       "                                  NA                               -0.2850  \n",
       "PaymentMethodCredit card (automatic)         PaymentMethodElectronic check  \n",
       "                             -0.1597                                0.1355  \n",
       "           PaymentMethodMailed check        TechSupportNo internet service  \n",
       "                             -0.1564                                    NA  \n",
       "                      TechSupportYes        StreamingTVNo internet service  \n",
       "                             -0.2894                                    NA  \n",
       "                      StreamingTVYes       OnlineBackupNo internet service  \n",
       "                              0.2941                                    NA  \n",
       "                     OnlineBackupYes                         SeniorCitizen  \n",
       "                             -0.1946                                0.1993  \n",
       "\n",
       "Degrees of Freedom: 5273 Total (i.e. Null);  5251 Residual\n",
       "Null Deviance:\t    6108 \n",
       "Residual Deviance: 4314 \tAIC: 4360"
      ]
     },
     "metadata": {},
     "output_type": "display_data"
    }
   ],
   "source": [
    "step(model.null,\n",
    "    scope = list(upper=model.full),\n",
    "    direction=\"forward\", \n",
    "     test = \"Chisq\", \n",
    "     data = trainData)\n",
    "\n",
    "#AIC is an estimator of how good the model is"
   ]
  },
  {
   "cell_type": "markdown",
   "metadata": {},
   "source": [
    "### Last Model"
   ]
  },
  {
   "cell_type": "code",
   "execution_count": 246,
   "metadata": {},
   "outputs": [
    {
     "data": {
      "text/plain": [
       "\n",
       "Call:\n",
       "glm(formula = Churn ~ Contract + InternetService + tenure_interval + \n",
       "    PaperlessBilling + SeniorCitizen + StreamingTV + TechSupport + \n",
       "    PaymentMethod + StreamingMovies + MultipleLines + MonthlyCharges + \n",
       "    TotalCharges, family = binomial(link = \"logit\"), data = trainData, \n",
       "    na.action = na.pass)\n",
       "\n",
       "Deviance Residuals: \n",
       "    Min       1Q   Median       3Q      Max  \n",
       "-2.1843  -0.6573  -0.2877   0.6076   3.1498  \n",
       "\n",
       "Coefficients: (3 not defined because of singularities)\n",
       "                                       Estimate Std. Error z value Pr(>|z|)    \n",
       "(Intercept)                          -9.712e-01  6.205e-01  -1.565  0.11756    \n",
       "ContractOne year                     -7.744e-01  1.262e-01  -6.136 8.45e-10 ***\n",
       "ContractTwo year                     -1.686e+00  2.073e-01  -8.132 4.21e-16 ***\n",
       "InternetServiceFiber optic            1.842e+00  2.739e-01   6.727 1.74e-11 ***\n",
       "InternetServiceNo                    -1.655e+00  3.399e-01  -4.870 1.12e-06 ***\n",
       "tenure_interval0-6 Month              1.914e+00  4.273e-01   4.480 7.48e-06 ***\n",
       "tenure_interval12-24 Month            6.812e-01  3.776e-01   1.804  0.07125 .  \n",
       "tenure_interval24-36 Month            3.322e-01  3.240e-01   1.025  0.30524    \n",
       "tenure_interval36-48 Month            5.321e-01  2.713e-01   1.961  0.04986 *  \n",
       "tenure_interval48-62 Month            1.869e-01  2.144e-01   0.871  0.38353    \n",
       "tenure_interval6-12 Month             1.036e+00  4.163e-01   2.489  0.01282 *  \n",
       "PaperlessBillingYes                   3.944e-01  8.714e-02   4.526 6.01e-06 ***\n",
       "SeniorCitizen                         2.027e-01  9.627e-02   2.105  0.03526 *  \n",
       "StreamingTVNo internet service               NA         NA      NA       NA    \n",
       "StreamingTVYes                        6.466e-01  1.417e-01   4.562 5.06e-06 ***\n",
       "TechSupportNo internet service               NA         NA      NA       NA    \n",
       "TechSupportYes                       -1.171e-01  1.138e-01  -1.029  0.30331    \n",
       "PaymentMethodCredit card (automatic) -1.602e-01  1.293e-01  -1.239  0.21540    \n",
       "PaymentMethodElectronic check         1.388e-01  1.092e-01   1.271  0.20377    \n",
       "PaymentMethodMailed check            -1.526e-01  1.350e-01  -1.130  0.25840    \n",
       "StreamingMoviesNo internet service           NA         NA      NA       NA    \n",
       "StreamingMoviesYes                    6.614e-01  1.400e-01   4.724 2.32e-06 ***\n",
       "MultipleLinesNo phone service        -1.167e-01  2.539e-01  -0.460  0.64577    \n",
       "MultipleLinesYes                      4.855e-01  1.053e-01   4.611 4.00e-06 ***\n",
       "MonthlyCharges                       -3.170e-02  1.064e-02  -2.979  0.00289 ** \n",
       "TotalCharges                         -5.636e-05  7.267e-05  -0.776  0.43802    \n",
       "---\n",
       "Signif. codes:  0 '***' 0.001 '**' 0.01 '*' 0.05 '.' 0.1 ' ' 1\n",
       "\n",
       "(Dispersion parameter for binomial family taken to be 1)\n",
       "\n",
       "    Null deviance: 6108.0  on 5273  degrees of freedom\n",
       "Residual deviance: 4315.7  on 5251  degrees of freedom\n",
       "AIC: 4361.7\n",
       "\n",
       "Number of Fisher Scoring iterations: 6\n"
      ]
     },
     "metadata": {},
     "output_type": "display_data"
    }
   ],
   "source": [
    "logmodel <- glm(Churn ~ Contract + InternetService + tenure_interval + PaperlessBilling + SeniorCitizen +\n",
    "                StreamingTV + TechSupport + PaymentMethod + StreamingMovies + MultipleLines + MonthlyCharges +\n",
    "                TotalCharges,\n",
    "                data = trainData, family=binomial(link=\"logit\"),\n",
    "                na.action=na.pass\n",
    "               )\n",
    "summary(logmodel)"
   ]
  },
  {
   "cell_type": "markdown",
   "metadata": {},
   "source": [
    "### Evaluate Model"
   ]
  },
  {
   "cell_type": "code",
   "execution_count": 247,
   "metadata": {},
   "outputs": [
    {
     "data": {
      "text/html": [
       "<dl>\n",
       "\t<dt>$names</dt>\n",
       "\t\t<dd><style>\n",
       ".list-inline {list-style: none; margin:0; padding: 0}\n",
       ".list-inline>li {display: inline-block}\n",
       ".list-inline>li:not(:last-child)::after {content: \"\\00b7\"; padding: 0 .5ex}\n",
       "</style>\n",
       "<ol class=list-inline><li>'coefficients'</li><li>'residuals'</li><li>'fitted.values'</li><li>'effects'</li><li>'R'</li><li>'rank'</li><li>'qr'</li><li>'family'</li><li>'linear.predictors'</li><li>'deviance'</li><li>'aic'</li><li>'null.deviance'</li><li>'iter'</li><li>'weights'</li><li>'prior.weights'</li><li>'df.residual'</li><li>'df.null'</li><li>'y'</li><li>'converged'</li><li>'boundary'</li><li>'model'</li><li>'call'</li><li>'formula'</li><li>'terms'</li><li>'data'</li><li>'offset'</li><li>'control'</li><li>'method'</li><li>'contrasts'</li><li>'xlevels'</li></ol>\n",
       "</dd>\n",
       "\t<dt>$class</dt>\n",
       "\t\t<dd><style>\n",
       ".list-inline {list-style: none; margin:0; padding: 0}\n",
       ".list-inline>li {display: inline-block}\n",
       ".list-inline>li:not(:last-child)::after {content: \"\\00b7\"; padding: 0 .5ex}\n",
       "</style>\n",
       "<ol class=list-inline><li>'glm'</li><li>'lm'</li></ol>\n",
       "</dd>\n",
       "</dl>\n"
      ],
      "text/latex": [
       "\\begin{description}\n",
       "\\item[\\$names] \\begin{enumerate*}\n",
       "\\item 'coefficients'\n",
       "\\item 'residuals'\n",
       "\\item 'fitted.values'\n",
       "\\item 'effects'\n",
       "\\item 'R'\n",
       "\\item 'rank'\n",
       "\\item 'qr'\n",
       "\\item 'family'\n",
       "\\item 'linear.predictors'\n",
       "\\item 'deviance'\n",
       "\\item 'aic'\n",
       "\\item 'null.deviance'\n",
       "\\item 'iter'\n",
       "\\item 'weights'\n",
       "\\item 'prior.weights'\n",
       "\\item 'df.residual'\n",
       "\\item 'df.null'\n",
       "\\item 'y'\n",
       "\\item 'converged'\n",
       "\\item 'boundary'\n",
       "\\item 'model'\n",
       "\\item 'call'\n",
       "\\item 'formula'\n",
       "\\item 'terms'\n",
       "\\item 'data'\n",
       "\\item 'offset'\n",
       "\\item 'control'\n",
       "\\item 'method'\n",
       "\\item 'contrasts'\n",
       "\\item 'xlevels'\n",
       "\\end{enumerate*}\n",
       "\n",
       "\\item[\\$class] \\begin{enumerate*}\n",
       "\\item 'glm'\n",
       "\\item 'lm'\n",
       "\\end{enumerate*}\n",
       "\n",
       "\\end{description}\n"
      ],
      "text/markdown": [
       "$names\n",
       ":   1. 'coefficients'\n",
       "2. 'residuals'\n",
       "3. 'fitted.values'\n",
       "4. 'effects'\n",
       "5. 'R'\n",
       "6. 'rank'\n",
       "7. 'qr'\n",
       "8. 'family'\n",
       "9. 'linear.predictors'\n",
       "10. 'deviance'\n",
       "11. 'aic'\n",
       "12. 'null.deviance'\n",
       "13. 'iter'\n",
       "14. 'weights'\n",
       "15. 'prior.weights'\n",
       "16. 'df.residual'\n",
       "17. 'df.null'\n",
       "18. 'y'\n",
       "19. 'converged'\n",
       "20. 'boundary'\n",
       "21. 'model'\n",
       "22. 'call'\n",
       "23. 'formula'\n",
       "24. 'terms'\n",
       "25. 'data'\n",
       "26. 'offset'\n",
       "27. 'control'\n",
       "28. 'method'\n",
       "29. 'contrasts'\n",
       "30. 'xlevels'\n",
       "\n",
       "\n",
       "\n",
       "$class\n",
       ":   1. 'glm'\n",
       "2. 'lm'\n",
       "\n",
       "\n",
       "\n",
       "\n",
       "\n"
      ],
      "text/plain": [
       "$names\n",
       " [1] \"coefficients\"      \"residuals\"         \"fitted.values\"    \n",
       " [4] \"effects\"           \"R\"                 \"rank\"             \n",
       " [7] \"qr\"                \"family\"            \"linear.predictors\"\n",
       "[10] \"deviance\"          \"aic\"               \"null.deviance\"    \n",
       "[13] \"iter\"              \"weights\"           \"prior.weights\"    \n",
       "[16] \"df.residual\"       \"df.null\"           \"y\"                \n",
       "[19] \"converged\"         \"boundary\"          \"model\"            \n",
       "[22] \"call\"              \"formula\"           \"terms\"            \n",
       "[25] \"data\"              \"offset\"            \"control\"          \n",
       "[28] \"method\"            \"contrasts\"         \"xlevels\"          \n",
       "\n",
       "$class\n",
       "[1] \"glm\" \"lm\" \n"
      ]
     },
     "metadata": {},
     "output_type": "display_data"
    },
    {
     "data": {
      "text/html": [
       "0.294621852708313"
      ],
      "text/latex": [
       "0.294621852708313"
      ],
      "text/markdown": [
       "0.294621852708313"
      ],
      "text/plain": [
       "[1] 0.2946219"
      ]
     },
     "metadata": {},
     "output_type": "display_data"
    }
   ],
   "source": [
    "# Compute Pseudo R-squares (not a very good measure for logistic reg, RUC Function is better)\n",
    "attributes(mylogit)\n",
    "pseudorsquare <- 1 - with(mylogit, deviance/null.deviance)\n",
    "pseudorsquare"
   ]
  },
  {
   "cell_type": "markdown",
   "metadata": {},
   "source": [
    "### Try to Improve the Model Reordering the Factors"
   ]
  },
  {
   "cell_type": "code",
   "execution_count": 248,
   "metadata": {},
   "outputs": [],
   "source": [
    "# Ordering a Field to see if model gets better \n",
    "# We'll start ordering by the Contract Variable, starting at \"Two Year\"\n",
    "trainData$Contract = relevel(as.factor(trainData$Contract), \"Two year\")\n",
    "\n",
    "# Running model again\n",
    "ordered_model <- glm(Churn ~ Contract + InternetService + tenure_interval + PaperlessBilling + SeniorCitizen +\n",
    "                StreamingTV + TechSupport + PaymentMethod + StreamingMovies + MultipleLines + MonthlyCharges +\n",
    "                TotalCharges,\n",
    "                data = trainData, family=binomial(link=\"logit\"),\n",
    "                na.action=na.pass\n",
    "               )\n",
    "# summary(ordered_model) - Didn't improve"
   ]
  },
  {
   "cell_type": "markdown",
   "metadata": {},
   "source": [
    "### Plot ROC Curve"
   ]
  },
  {
   "cell_type": "code",
   "execution_count": 249,
   "metadata": {},
   "outputs": [],
   "source": [
    "# !install.packages(\"bitops\")\n",
    "# !install.packages(\"caTools\")\n",
    "# !install.packages(\"ROCR\")\n",
    "library(bitops)\n",
    "library(caTools)\n",
    "library(ROCR)"
   ]
  },
  {
   "cell_type": "markdown",
   "metadata": {},
   "source": [
    "### Predict value of churn based in our Logistic Model"
   ]
  },
  {
   "cell_type": "code",
   "execution_count": 250,
   "metadata": {
    "scrolled": true
   },
   "outputs": [
    {
     "name": "stderr",
     "output_type": "stream",
     "text": [
      "Warning message in predict.lm(object, newdata, se.fit, scale = 1, type = if (type == :\n",
      "\"prediction from a rank-deficient fit may be misleading\"\n"
     ]
    }
   ],
   "source": [
    "pred = predict(logmodel, newdata= testData, type=\"response\") # Returns % of Being True \n",
    "predObj = prediction(pred, testData$Churn) # prediction object needed by ROCR\n",
    "\n",
    "#do the same for null model\n",
    "pred_null = predict(model.null, newdata= testData, type=\"response\") # Returns % of Being True \n",
    "predObj_null = prediction(pred_null, testData$Churn) # prediction object needed by ROCR\n",
    "\n",
    "# ?performance"
   ]
  },
  {
   "cell_type": "code",
   "execution_count": 251,
   "metadata": {},
   "outputs": [
    {
     "data": {
      "text/html": [
       "0.83997349464337"
      ],
      "text/latex": [
       "0.83997349464337"
      ],
      "text/markdown": [
       "0.83997349464337"
      ],
      "text/plain": [
       "[1] 0.8399735"
      ]
     },
     "metadata": {},
     "output_type": "display_data"
    },
    {
     "data": {
      "text/html": [
       "0.5"
      ],
      "text/latex": [
       "0.5"
      ],
      "text/markdown": [
       "0.5"
      ],
      "text/plain": [
       "[1] 0.5"
      ]
     },
     "metadata": {},
     "output_type": "display_data"
    }
   ],
   "source": [
    "# auc for our model\n",
    "rocObj = performance(predObj, measure=\"tpr\", x.measure=\"fpr\")\n",
    "aucObj = performance(predObj, measure = \"auc\")\n",
    "auc = aucObj@y.values[[1]]\n",
    "auc #here\n",
    "\n",
    "# see auc for null model\n",
    "rocObj_null = performance(predObj_null, measure=\"tpr\", x.measure=\"fpr\")\n",
    "aucObj_null = performance(predObj_null, measure = \"auc\")\n",
    "auc_null = aucObj_null@y.values[[1]]\n",
    "auc_null # here\n",
    "\n",
    "# Our model is around 30% better than a null/dummy model"
   ]
  },
  {
   "cell_type": "code",
   "execution_count": 252,
   "metadata": {},
   "outputs": [
    {
     "data": {
      "image/png": "[encoded data removed]",
      "text/plain": [
       "Plot with title \"Area under the curve: 0.83997349464337\""
      ]
     },
     "metadata": {
      "image/png": {
       "height": 420,
       "width": 420
      }
     },
     "output_type": "display_data"
    }
   ],
   "source": [
    "# Plot AUC Chart - The higher the better\n",
    "plot(rocObj, main = paste(\"Area under the curve:\", auc))"
   ]
  },
  {
   "cell_type": "markdown",
   "metadata": {},
   "source": [
    "### Do predections: \"Yes\" or \"No\" to Churn"
   ]
  },
  {
   "cell_type": "code",
   "execution_count": 253,
   "metadata": {
    "scrolled": true
   },
   "outputs": [
    {
     "name": "stdout",
     "output_type": "stream",
     "text": [
      "[1] \"MisClasification Error Rate is:\"\n"
     ]
    },
    {
     "data": {
      "text/html": [
       "0.197383390216155"
      ],
      "text/latex": [
       "0.197383390216155"
      ],
      "text/markdown": [
       "0.197383390216155"
      ],
      "text/plain": [
       "[1] 0.1973834"
      ]
     },
     "metadata": {},
     "output_type": "display_data"
    },
    {
     "name": "stdout",
     "output_type": "stream",
     "text": [
      "[1] \"Accuracy Rate is:\"\n"
     ]
    },
    {
     "data": {
      "text/html": [
       "0.802616609783845"
      ],
      "text/latex": [
       "0.802616609783845"
      ],
      "text/markdown": [
       "0.802616609783845"
      ],
      "text/plain": [
       "[1] 0.8026166"
      ]
     },
     "metadata": {},
     "output_type": "display_data"
    }
   ],
   "source": [
    "fitted.results <- ifelse(pred > 0.5, \"Yes\", \"No\")\n",
    "\n",
    "# calculating the misclasification rate\n",
    "miscError <- mean(fitted.results!=testData$Churn)\n",
    "print(\"MisClasification Error Rate is:\")\n",
    "miscError\n",
    "\n",
    "# calculating accuracy rate\n",
    "accuracyRate <- 1-miscError\n",
    "print(\"Accuracy Rate is:\")\n",
    "accuracyRate"
   ]
  },
  {
   "cell_type": "markdown",
   "metadata": {},
   "source": [
    "### Do some \"Client\" Prediction varying on \"Monthly Charges\" to see if we get yes or no"
   ]
  },
  {
   "cell_type": "code",
   "execution_count": 254,
   "metadata": {},
   "outputs": [
    {
     "data": {
      "text/html": [
       "<table>\n",
       "<caption>A data.frame: 6 × 12</caption>\n",
       "<thead>\n",
       "\t<tr><th></th><th scope=col>MonthlyCharges</th><th scope=col>tenure_interval</th><th scope=col>Contract</th><th scope=col>InternetService</th><th scope=col>PaperlessBilling</th><th scope=col>SeniorCitizen</th><th scope=col>StreamingTV</th><th scope=col>TechSupport</th><th scope=col>PaymentMethod</th><th scope=col>StreamingMovies</th><th scope=col>MultipleLines</th><th scope=col>TotalCharges</th></tr>\n",
       "\t<tr><th></th><th scope=col>&lt;dbl&gt;</th><th scope=col>&lt;fct&gt;</th><th scope=col>&lt;fct&gt;</th><th scope=col>&lt;fct&gt;</th><th scope=col>&lt;fct&gt;</th><th scope=col>&lt;int&gt;</th><th scope=col>&lt;fct&gt;</th><th scope=col>&lt;fct&gt;</th><th scope=col>&lt;fct&gt;</th><th scope=col>&lt;fct&gt;</th><th scope=col>&lt;fct&gt;</th><th scope=col>&lt;dbl&gt;</th></tr>\n",
       "</thead>\n",
       "<tbody>\n",
       "\t<tr><th scope=row>1</th><td>29.85</td><td>0-6 Month  </td><td>Month-to-month</td><td>DSL        </td><td>Yes</td><td>0</td><td>No </td><td>No </td><td>Electronic check         </td><td>No </td><td>No phone service</td><td>  29.85</td></tr>\n",
       "\t<tr><th scope=row>2</th><td>56.95</td><td>24-36 Month</td><td>One year      </td><td>DSL        </td><td>No </td><td>0</td><td>No </td><td>No </td><td>Mailed check             </td><td>No </td><td>No              </td><td>1889.50</td></tr>\n",
       "\t<tr><th scope=row>3</th><td>53.85</td><td>0-6 Month  </td><td>Month-to-month</td><td>DSL        </td><td>Yes</td><td>0</td><td>No </td><td>No </td><td>Mailed check             </td><td>No </td><td>No              </td><td> 108.15</td></tr>\n",
       "\t<tr><th scope=row>4</th><td>42.30</td><td>36-48 Month</td><td>One year      </td><td>DSL        </td><td>No </td><td>0</td><td>No </td><td>Yes</td><td>Bank transfer (automatic)</td><td>No </td><td>No phone service</td><td>1840.75</td></tr>\n",
       "\t<tr><th scope=row>5</th><td>70.70</td><td>0-6 Month  </td><td>Month-to-month</td><td>Fiber optic</td><td>Yes</td><td>0</td><td>No </td><td>No </td><td>Electronic check         </td><td>No </td><td>No              </td><td> 151.65</td></tr>\n",
       "\t<tr><th scope=row>6</th><td>99.65</td><td>6-12 Month </td><td>Month-to-month</td><td>Fiber optic</td><td>Yes</td><td>0</td><td>Yes</td><td>No </td><td>Electronic check         </td><td>Yes</td><td>Yes             </td><td> 820.50</td></tr>\n",
       "</tbody>\n",
       "</table>\n"
      ],
      "text/latex": [
       "A data.frame: 6 × 12\n",
       "\\begin{tabular}{r|llllllllllll}\n",
       "  & MonthlyCharges & tenure\\_interval & Contract & InternetService & PaperlessBilling & SeniorCitizen & StreamingTV & TechSupport & PaymentMethod & StreamingMovies & MultipleLines & TotalCharges\\\\\n",
       "  & <dbl> & <fct> & <fct> & <fct> & <fct> & <int> & <fct> & <fct> & <fct> & <fct> & <fct> & <dbl>\\\\\n",
       "\\hline\n",
       "\t1 & 29.85 & 0-6 Month   & Month-to-month & DSL         & Yes & 0 & No  & No  & Electronic check          & No  & No phone service &   29.85\\\\\n",
       "\t2 & 56.95 & 24-36 Month & One year       & DSL         & No  & 0 & No  & No  & Mailed check              & No  & No               & 1889.50\\\\\n",
       "\t3 & 53.85 & 0-6 Month   & Month-to-month & DSL         & Yes & 0 & No  & No  & Mailed check              & No  & No               &  108.15\\\\\n",
       "\t4 & 42.30 & 36-48 Month & One year       & DSL         & No  & 0 & No  & Yes & Bank transfer (automatic) & No  & No phone service & 1840.75\\\\\n",
       "\t5 & 70.70 & 0-6 Month   & Month-to-month & Fiber optic & Yes & 0 & No  & No  & Electronic check          & No  & No               &  151.65\\\\\n",
       "\t6 & 99.65 & 6-12 Month  & Month-to-month & Fiber optic & Yes & 0 & Yes & No  & Electronic check          & Yes & Yes              &  820.50\\\\\n",
       "\\end{tabular}\n"
      ],
      "text/markdown": [
       "\n",
       "A data.frame: 6 × 12\n",
       "\n",
       "| <!--/--> | MonthlyCharges &lt;dbl&gt; | tenure_interval &lt;fct&gt; | Contract &lt;fct&gt; | InternetService &lt;fct&gt; | PaperlessBilling &lt;fct&gt; | SeniorCitizen &lt;int&gt; | StreamingTV &lt;fct&gt; | TechSupport &lt;fct&gt; | PaymentMethod &lt;fct&gt; | StreamingMovies &lt;fct&gt; | MultipleLines &lt;fct&gt; | TotalCharges &lt;dbl&gt; |\n",
       "|---|---|---|---|---|---|---|---|---|---|---|---|---|\n",
       "| 1 | 29.85 | 0-6 Month   | Month-to-month | DSL         | Yes | 0 | No  | No  | Electronic check          | No  | No phone service |   29.85 |\n",
       "| 2 | 56.95 | 24-36 Month | One year       | DSL         | No  | 0 | No  | No  | Mailed check              | No  | No               | 1889.50 |\n",
       "| 3 | 53.85 | 0-6 Month   | Month-to-month | DSL         | Yes | 0 | No  | No  | Mailed check              | No  | No               |  108.15 |\n",
       "| 4 | 42.30 | 36-48 Month | One year       | DSL         | No  | 0 | No  | Yes | Bank transfer (automatic) | No  | No phone service | 1840.75 |\n",
       "| 5 | 70.70 | 0-6 Month   | Month-to-month | Fiber optic | Yes | 0 | No  | No  | Electronic check          | No  | No               |  151.65 |\n",
       "| 6 | 99.65 | 6-12 Month  | Month-to-month | Fiber optic | Yes | 0 | Yes | No  | Electronic check          | Yes | Yes              |  820.50 |\n",
       "\n"
      ],
      "text/plain": [
       "  MonthlyCharges tenure_interval Contract       InternetService\n",
       "1 29.85          0-6 Month       Month-to-month DSL            \n",
       "2 56.95          24-36 Month     One year       DSL            \n",
       "3 53.85          0-6 Month       Month-to-month DSL            \n",
       "4 42.30          36-48 Month     One year       DSL            \n",
       "5 70.70          0-6 Month       Month-to-month Fiber optic    \n",
       "6 99.65          6-12 Month      Month-to-month Fiber optic    \n",
       "  PaperlessBilling SeniorCitizen StreamingTV TechSupport\n",
       "1 Yes              0             No          No         \n",
       "2 No               0             No          No         \n",
       "3 Yes              0             No          No         \n",
       "4 No               0             No          Yes        \n",
       "5 Yes              0             No          No         \n",
       "6 Yes              0             Yes         No         \n",
       "  PaymentMethod             StreamingMovies MultipleLines    TotalCharges\n",
       "1 Electronic check          No              No phone service   29.85     \n",
       "2 Mailed check              No              No               1889.50     \n",
       "3 Mailed check              No              No                108.15     \n",
       "4 Bank transfer (automatic) No              No phone service 1840.75     \n",
       "5 Electronic check          No              No                151.65     \n",
       "6 Electronic check          Yes             Yes               820.50     "
      ]
     },
     "metadata": {},
     "output_type": "display_data"
    }
   ],
   "source": [
    "newdata1 <- data.frame(MonthlyCharges=seq(min(data_nona$MonthlyCharges), max(data_nona$MonthlyCharges),10), #10 search values\n",
    "                       tenure_interval=c(\"12-24 Month\"),\n",
    "                       Contract=c(\"One Year\"),\n",
    "                       InternetService=c(\"Fiber optic\"),\n",
    "                       PaperlessBilling=c(\"Yes\"),\n",
    "                       SeniorCitizen=0,\n",
    "                       StreamingTV = c(\"Yes\"),\n",
    "                       TechSupport = c(\"Yes\"),\n",
    "                       PaymentMethod = c(\"Electronic check\"),\n",
    "                       StreamingMovies = c(\"Yes\"),\n",
    "                       MultipleLines = c(\"Yes\"),\n",
    "                       TotalCharges=1000\n",
    "                      )\n",
    "# Deleting some columns that are generating problems for the next jupyter cell\n",
    "col_keep = c(\"MonthlyCharges\",\"tenure_interval\",\"Contract\",\"InternetService\",\"PaperlessBilling\",\"SeniorCitizen\",\n",
    "            \"StreamingTV\",\"TechSupport\",\"PaymentMethod\",\"StreamingMovies\",\"MultipleLines\",\"TotalCharges\")\n",
    "newdata1 <- subset(data, select = col_keep)\n",
    "head(newdata1)"
   ]
  },
  {
   "cell_type": "code",
   "execution_count": 255,
   "metadata": {},
   "outputs": [
    {
     "name": "stderr",
     "output_type": "stream",
     "text": [
      "Warning message in predict.lm(object, newdata, se.fit, scale = 1, type = if (type == :\n",
      "\"prediction from a rank-deficient fit may be misleading\"\n"
     ]
    },
    {
     "data": {
      "image/png": "[encoded data removed]",
      "text/plain": [
       "plot without title"
      ]
     },
     "metadata": {
      "image/png": {
       "height": 420,
       "width": 420
      }
     },
     "output_type": "display_data"
    }
   ],
   "source": [
    "newdata1$MonthlyChargesP <- predict(logmodel, newdata=newdata1, type=\"response\")\n",
    "a <- cbind(newdata1$MonthlyCharges, newdata1$MonthlyChargesP)\n",
    "plot(newdata1$MonthlyCharges, newdata1$MonthlyChargesP)"
   ]
  },
  {
   "cell_type": "code",
   "execution_count": null,
   "metadata": {},
   "outputs": [],
   "source": []
  },
  {
   "cell_type": "code",
   "execution_count": null,
   "metadata": {},
   "outputs": [],
   "source": []
  },
  {
   "cell_type": "code",
   "execution_count": null,
   "metadata": {},
   "outputs": [],
   "source": []
  },
  {
   "cell_type": "code",
   "execution_count": null,
   "metadata": {},
   "outputs": [],
   "source": []
  },
  {
   "cell_type": "code",
   "execution_count": null,
   "metadata": {},
   "outputs": [],
   "source": []
  },
  {
   "cell_type": "code",
   "execution_count": null,
   "metadata": {},
   "outputs": [],
   "source": []
  },
  {
   "cell_type": "code",
   "execution_count": null,
   "metadata": {},
   "outputs": [],
   "source": []
  }
 ],
 "metadata": {
  "kernelspec": {
   "display_name": "R",
   "language": "R",
   "name": "ir"
  },
  "language_info": {
   "codemirror_mode": "r",
   "file_extension": ".r",
   "mimetype": "text/x-r-source",
   "name": "R",
   "pygments_lexer": "r",
   "version": "3.6.1"
  }
 },
 "nbformat": 4,
 "nbformat_minor": 2
}
